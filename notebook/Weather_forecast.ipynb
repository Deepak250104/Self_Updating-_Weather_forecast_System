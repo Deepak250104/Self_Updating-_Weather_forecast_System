{
  "cells": [
    {
      "cell_type": "markdown",
      "metadata": {
        "id": "rkh7QOQzNRIG"
      },
      "source": [
        "# Data Collection"
      ]
    },
    {
      "cell_type": "code",
      "execution_count": 125,
      "metadata": {
        "colab": {
          "base_uri": "https://localhost:8080/"
        },
        "id": "kemV9nhyNVN0",
        "outputId": "3b99c00f-434b-4d44-a7f8-4aaaa127521f"
      },
      "outputs": [
        {
          "name": "stdout",
          "output_type": "stream",
          "text": [
            "Requirement already satisfied: kaggle in c:\\users\\deepa\\onedrive\\programming\\projects\\github\\self_updating-_weather_forecast_system\\.venv\\lib\\site-packages (1.7.4.2)\n",
            "Requirement already satisfied: bleach in c:\\users\\deepa\\onedrive\\programming\\projects\\github\\self_updating-_weather_forecast_system\\.venv\\lib\\site-packages (from kaggle) (6.2.0)\n",
            "Requirement already satisfied: certifi>=14.05.14 in c:\\users\\deepa\\onedrive\\programming\\projects\\github\\self_updating-_weather_forecast_system\\.venv\\lib\\site-packages (from kaggle) (2025.4.26)\n",
            "Requirement already satisfied: charset-normalizer in c:\\users\\deepa\\onedrive\\programming\\projects\\github\\self_updating-_weather_forecast_system\\.venv\\lib\\site-packages (from kaggle) (3.4.1)\n",
            "Requirement already satisfied: idna in c:\\users\\deepa\\onedrive\\programming\\projects\\github\\self_updating-_weather_forecast_system\\.venv\\lib\\site-packages (from kaggle) (3.10)\n",
            "Requirement already satisfied: protobuf in c:\\users\\deepa\\onedrive\\programming\\projects\\github\\self_updating-_weather_forecast_system\\.venv\\lib\\site-packages (from kaggle) (6.30.2)\n",
            "Requirement already satisfied: python-dateutil>=2.5.3 in c:\\users\\deepa\\onedrive\\programming\\projects\\github\\self_updating-_weather_forecast_system\\.venv\\lib\\site-packages (from kaggle) (2.9.0.post0)\n",
            "Requirement already satisfied: python-slugify in c:\\users\\deepa\\onedrive\\programming\\projects\\github\\self_updating-_weather_forecast_system\\.venv\\lib\\site-packages (from kaggle) (8.0.4)\n",
            "Requirement already satisfied: requests in c:\\users\\deepa\\onedrive\\programming\\projects\\github\\self_updating-_weather_forecast_system\\.venv\\lib\\site-packages (from kaggle) (2.32.3)\n",
            "Requirement already satisfied: setuptools>=21.0.0 in c:\\users\\deepa\\onedrive\\programming\\projects\\github\\self_updating-_weather_forecast_system\\.venv\\lib\\site-packages (from kaggle) (80.0.0)\n",
            "Requirement already satisfied: six>=1.10 in c:\\users\\deepa\\onedrive\\programming\\projects\\github\\self_updating-_weather_forecast_system\\.venv\\lib\\site-packages (from kaggle) (1.17.0)\n",
            "Requirement already satisfied: text-unidecode in c:\\users\\deepa\\onedrive\\programming\\projects\\github\\self_updating-_weather_forecast_system\\.venv\\lib\\site-packages (from kaggle) (1.3)\n",
            "Requirement already satisfied: tqdm in c:\\users\\deepa\\onedrive\\programming\\projects\\github\\self_updating-_weather_forecast_system\\.venv\\lib\\site-packages (from kaggle) (4.67.1)\n",
            "Requirement already satisfied: urllib3>=1.15.1 in c:\\users\\deepa\\onedrive\\programming\\projects\\github\\self_updating-_weather_forecast_system\\.venv\\lib\\site-packages (from kaggle) (2.4.0)\n",
            "Requirement already satisfied: webencodings in c:\\users\\deepa\\onedrive\\programming\\projects\\github\\self_updating-_weather_forecast_system\\.venv\\lib\\site-packages (from kaggle) (0.5.1)\n",
            "Requirement already satisfied: colorama in c:\\users\\deepa\\onedrive\\programming\\projects\\github\\self_updating-_weather_forecast_system\\.venv\\lib\\site-packages (from tqdm->kaggle) (0.4.6)\n"
          ]
        }
      ],
      "source": [
        "!pip install kaggle"
      ]
    },
    {
      "cell_type": "markdown",
      "metadata": {},
      "source": [
        "Use DATA_DIR wherever needed for loading, saving, or moving files."
      ]
    },
    {
      "cell_type": "code",
      "execution_count": 126,
      "metadata": {},
      "outputs": [],
      "source": [
        "import os\n",
        "\n",
        "# Set root directory\n",
        "ROOT_DIR = os.path.abspath(os.path.join(os.getcwd(), '..'))\n",
        "\n",
        "# Set standard data directory\n",
        "DATA_DIR = os.path.join(ROOT_DIR, 'weather_data')\n"
      ]
    },
    {
      "cell_type": "code",
      "execution_count": 127,
      "metadata": {
        "id": "-mvwJFfiOskf"
      },
      "outputs": [
        {
          "name": "stdout",
          "output_type": "stream",
          "text": [
            "Folder 'weather_data' already exists at 'c:\\Users\\deepa\\OneDrive\\Programming\\Projects\\GitHub\\Self_Updating-_Weather_forecast_System\\weather_data'.\n",
            "Error: File 'bengaluru.csv' not found in the root directory.\n",
            "Error: File 'bombay.csv' not found in the root directory.\n",
            "Error: File 'delhi.csv' not found in the root directory.\n",
            "Error: File 'hyderabad.csv' not found in the root directory.\n",
            "Error: File 'jaipur.csv' not found in the root directory.\n",
            "Error: File 'kanpur.csv' not found in the root directory.\n",
            "Error: File 'nagpur.csv' not found in the root directory.\n",
            "Error: File 'pune.csv' not found in the root directory.\n",
            "All specified CSV files have been moved to the 'weather_data' folder.\n"
          ]
        }
      ],
      "source": [
        "import os\n",
        "import shutil\n",
        "\n",
        "csv_files = [\n",
        "    'bengaluru.csv',\n",
        "    'bombay.csv',\n",
        "    'delhi.csv',\n",
        "    'hyderabad.csv',\n",
        "    'jaipur.csv',\n",
        "    'kanpur.csv',\n",
        "    'nagpur.csv',\n",
        "    'pune.csv',\n",
        "]\n",
        "\n",
        "# Get the path to the root directory (one level above notebook/)\n",
        "root_dir = os.path.abspath(os.path.join(os.getcwd(), '..'))\n",
        "\n",
        "# Full path to the weather_data folder at root level\n",
        "folder_path = os.path.join(root_dir, 'weather_data')\n",
        "\n",
        "# Create the folder if it doesn't exist\n",
        "if not os.path.exists(folder_path):\n",
        "    os.makedirs(folder_path)\n",
        "    print(f\"Folder 'weather_data' created at '{folder_path}'.\")\n",
        "else:\n",
        "    print(f\"Folder 'weather_data' already exists at '{folder_path}'.\")\n",
        "\n",
        "# Move each CSV file from root to weather_data\n",
        "for csv_file in csv_files:\n",
        "    source_path = os.path.join(root_dir, csv_file)\n",
        "    destination_path = os.path.join(folder_path, csv_file)\n",
        "    try:\n",
        "        shutil.move(source_path, destination_path)\n",
        "        print(f\"Moved '{csv_file}' to '{folder_path}'.\")\n",
        "    except FileNotFoundError:\n",
        "        print(f\"Error: File '{csv_file}' not found in the root directory.\")\n",
        "    except Exception as e:\n",
        "        print(f\"An error occurred while moving '{csv_file}': {e}\")\n",
        "\n",
        "print(\"All specified CSV files have been moved to the 'weather_data' folder.\")\n"
      ]
    },
    {
      "cell_type": "markdown",
      "metadata": {
        "id": "FAOVZTM7RWox"
      },
      "source": [
        "Importing data from kaggle"
      ]
    },
    {
      "cell_type": "code",
      "execution_count": 128,
      "metadata": {
        "colab": {
          "base_uri": "https://localhost:8080/"
        },
        "id": "Fm4xnbJqNdU8",
        "outputId": "98338d07-eee5-4f4b-bc69-39329643250d"
      },
      "outputs": [
        {
          "name": "stdout",
          "output_type": "stream",
          "text": [
            "Dataset URL: https://www.kaggle.com/datasets/hiteshsoneji/historical-weather-data-for-indian-cities\n",
            "License(s): other\n",
            "historical-weather-data-for-indian-cities.zip: Skipping, found more recently modified local copy (use --force to force download)\n"
          ]
        }
      ],
      "source": [
        "# Since we are using Indian cities data this model is more accurate for Indian scenarios\n",
        "!kaggle datasets download -d hiteshsoneji/historical-weather-data-for-indian-cities"
      ]
    },
    {
      "cell_type": "markdown",
      "metadata": {
        "id": "ni4QZgifRp06"
      },
      "source": [
        "Extracting the compressed dataset"
      ]
    },
    {
      "cell_type": "code",
      "execution_count": 129,
      "metadata": {
        "colab": {
          "base_uri": "https://localhost:8080/"
        },
        "id": "b45jI2AHOCMx",
        "outputId": "275cfe67-6969-4574-f203-d0f1b75f2fc9"
      },
      "outputs": [
        {
          "name": "stdout",
          "output_type": "stream",
          "text": [
            "Files successfully extracted to c:\\Users\\deepa\\OneDrive\\Programming\\Projects\\GitHub\\Self_Updating-_Weather_forecast_System\\weather_data\n"
          ]
        }
      ],
      "source": [
        "from zipfile import ZipFile\n",
        "import os\n",
        "\n",
        "data = 'historical-weather-data-for-indian-cities.zip'\n",
        "\n",
        "# Get the absolute path to the root weather_data folder\n",
        "root_dir = os.path.abspath(os.path.join(os.getcwd(), '..'))\n",
        "weather_data_path = os.path.join(root_dir, 'weather_data')\n",
        "\n",
        "# Ensure the weather_data folder exists\n",
        "if not os.path.exists(weather_data_path):\n",
        "    os.makedirs(weather_data_path)\n",
        "\n",
        "# Extract the zip file to root/weather_data/\n",
        "with ZipFile(data, 'r') as zip_ref:\n",
        "    zip_ref.extractall(weather_data_path)\n",
        "    print(f\"Files successfully extracted to {weather_data_path}\")\n"
      ]
    },
    {
      "cell_type": "markdown",
      "metadata": {
        "id": "21WbgDvy8Z4c"
      },
      "source": [
        "Adding all the files .csv file into a single folder"
      ]
    },
    {
      "cell_type": "code",
      "execution_count": 130,
      "metadata": {
        "colab": {
          "base_uri": "https://localhost:8080/"
        },
        "id": "OgwBd8TuRwj-",
        "outputId": "a7d0aa1f-427c-4653-db70-33da28afd39e"
      },
      "outputs": [
        {
          "name": "stdout",
          "output_type": "stream",
          "text": [
            "Folder 'weather_data' already exists at 'c:\\Users\\deepa\\OneDrive\\Programming\\Projects\\GitHub\\Self_Updating-_Weather_forecast_System\\weather_data'.\n",
            "Error: File 'bengaluru.csv' not found in the root directory.\n",
            "Error: File 'bombay.csv' not found in the root directory.\n",
            "Error: File 'delhi.csv' not found in the root directory.\n",
            "Error: File 'hyderabad.csv' not found in the root directory.\n",
            "Error: File 'jaipur.csv' not found in the root directory.\n",
            "Error: File 'kanpur.csv' not found in the root directory.\n",
            "Error: File 'nagpur.csv' not found in the root directory.\n",
            "Error: File 'pune.csv' not found in the root directory.\n",
            "All specified CSV files have been moved to the 'weather_data' folder.\n"
          ]
        }
      ],
      "source": [
        "import os\n",
        "import shutil\n",
        "\n",
        "csv_files = [\n",
        "    'bengaluru.csv',\n",
        "    'bombay.csv',\n",
        "    'delhi.csv',\n",
        "    'hyderabad.csv',\n",
        "    'jaipur.csv',\n",
        "    'kanpur.csv',\n",
        "    'nagpur.csv',\n",
        "    'pune.csv',\n",
        "]\n",
        "\n",
        "# Get the path to the root directory (one level above notebook/)\n",
        "root_dir = os.path.abspath(os.path.join(os.getcwd(), '..'))\n",
        "\n",
        "# Full path to the weather_data folder at root level\n",
        "folder_path = os.path.join(root_dir, 'weather_data')\n",
        "\n",
        "# Create the folder if it doesn't exist\n",
        "if not os.path.exists(folder_path):\n",
        "    os.makedirs(folder_path)\n",
        "    print(f\"Folder 'weather_data' created at '{folder_path}'.\")\n",
        "else:\n",
        "    print(f\"Folder 'weather_data' already exists at '{folder_path}'.\")\n",
        "\n",
        "# Move each CSV file from root to weather_data\n",
        "for csv_file in csv_files:\n",
        "    source_path = os.path.join(root_dir, csv_file)\n",
        "    destination_path = os.path.join(folder_path, csv_file)\n",
        "    try:\n",
        "        shutil.move(source_path, destination_path)\n",
        "        print(f\"Moved '{csv_file}' to '{folder_path}'.\")\n",
        "    except FileNotFoundError:\n",
        "        print(f\"Error: File '{csv_file}' not found in the root directory.\")\n",
        "    except Exception as e:\n",
        "        print(f\"An error occurred while moving '{csv_file}': {e}\")\n",
        "\n",
        "print(\"All specified CSV files have been moved to the 'weather_data' folder.\")\n"
      ]
    },
    {
      "cell_type": "markdown",
      "metadata": {
        "id": "Cac2tNo28fo6"
      },
      "source": [
        "Combining all the csv files into a single data frame"
      ]
    },
    {
      "cell_type": "code",
      "execution_count": 131,
      "metadata": {
        "colab": {
          "base_uri": "https://localhost:8080/"
        },
        "id": "Y_2VwEej7Tuh",
        "outputId": "ff591bcc-f1f3-48f0-8de7-91b90e006105"
      },
      "outputs": [
        {
          "name": "stdout",
          "output_type": "stream",
          "text": [
            "Successfully read and processed: bengaluru.csv\n",
            "Successfully read and processed: bombay.csv\n",
            "Successfully read and processed: delhi.csv\n",
            "Successfully read and processed: hyderabad.csv\n",
            "Successfully read and processed: jaipur.csv\n",
            "Successfully read and processed: kanpur.csv\n",
            "Successfully read and processed: nagpur.csv\n",
            "Successfully read and processed: pune.csv\n"
          ]
        }
      ],
      "source": [
        "import os\n",
        "import pandas as pd\n",
        "\n",
        "# Go one level up to root, then into weather_data\n",
        "root_dir = os.path.abspath(os.path.join(os.getcwd(), '..'))\n",
        "folder_path = os.path.join(root_dir, 'weather_data')\n",
        "\n",
        "all_city_data = []\n",
        "\n",
        "for filename in os.listdir(folder_path):\n",
        "    if filename.endswith('.csv'):\n",
        "        file_path = os.path.join(folder_path, filename)\n",
        "        try:\n",
        "            df = pd.read_csv(file_path)\n",
        "            df['city'] = filename.replace('.csv', '')\n",
        "            all_city_data.append(df)\n",
        "            print(f\"Successfully read and processed: {filename}\")\n",
        "        except Exception as e:\n",
        "            print(f\"Error reading file {filename}: {e}\")\n",
        "\n",
        "combined_df = pd.concat(all_city_data, ignore_index=True)\n"
      ]
    },
    {
      "cell_type": "markdown",
      "metadata": {
        "id": "RDkukfwI-qHI"
      },
      "source": [
        "# Data Exploration and Cleaning"
      ]
    },
    {
      "cell_type": "code",
      "execution_count": 132,
      "metadata": {
        "colab": {
          "base_uri": "https://localhost:8080/"
        },
        "id": "e2qest87S09H",
        "outputId": "e08a088b-9ad3-4a4d-8aa9-f98de6515257"
      },
      "outputs": [
        {
          "name": "stdout",
          "output_type": "stream",
          "text": [
            "First 10 rows of combined_df:\n",
            "             date_time  maxtempC  mintempC  totalSnow_cm  sunHour  uvIndex  \\\n",
            "0  2009-01-01 00:00:00        27        12           0.0     11.6        5   \n",
            "1  2009-01-01 01:00:00        27        12           0.0     11.6        5   \n",
            "2  2009-01-01 02:00:00        27        12           0.0     11.6        5   \n",
            "3  2009-01-01 03:00:00        27        12           0.0     11.6        5   \n",
            "4  2009-01-01 04:00:00        27        12           0.0     11.6        5   \n",
            "5  2009-01-01 05:00:00        27        12           0.0     11.6        5   \n",
            "6  2009-01-01 06:00:00        27        12           0.0     11.6        5   \n",
            "7  2009-01-01 07:00:00        27        12           0.0     11.6        5   \n",
            "8  2009-01-01 08:00:00        27        12           0.0     11.6        5   \n",
            "9  2009-01-01 09:00:00        27        12           0.0     11.6        5   \n",
            "\n",
            "   uvIndex.1  moon_illumination  moonrise   moonset  ... WindGustKmph  \\\n",
            "0          1                 31  09:58 AM  10:03 PM  ...           11   \n",
            "1          1                 31  09:58 AM  10:03 PM  ...            9   \n",
            "2          1                 31  09:58 AM  10:03 PM  ...            7   \n",
            "3          1                 31  09:58 AM  10:03 PM  ...            5   \n",
            "4          1                 31  09:58 AM  10:03 PM  ...            5   \n",
            "5          1                 31  09:58 AM  10:03 PM  ...            5   \n",
            "6          5                 31  09:58 AM  10:03 PM  ...            4   \n",
            "7          6                 31  09:58 AM  10:03 PM  ...            6   \n",
            "8          6                 31  09:58 AM  10:03 PM  ...            7   \n",
            "9          7                 31  09:58 AM  10:03 PM  ...            8   \n",
            "\n",
            "  cloudcover  humidity  precipMM  pressure  tempC  visibility  winddirDegree  \\\n",
            "0          2        91       0.0      1014     14          10            109   \n",
            "1          2        93       0.0      1014     14           7             85   \n",
            "2          2        94       0.0      1014     13           5             61   \n",
            "3          2        96       0.0      1014     12           2             37   \n",
            "4          1        88       0.0      1015     14           5             45   \n",
            "5          1        80       0.0      1016     16           7             53   \n",
            "6          0        72       0.0      1016     18          10             61   \n",
            "7          0        61       0.0      1016     21          10             65   \n",
            "8          0        49       0.0      1015     23          10             70   \n",
            "9          0        37       0.0      1014     25          10             75   \n",
            "\n",
            "   windspeedKmph       city  \n",
            "0              8  bengaluru  \n",
            "1              6  bengaluru  \n",
            "2              4  bengaluru  \n",
            "3              3  bengaluru  \n",
            "4              3  bengaluru  \n",
            "5              3  bengaluru  \n",
            "6              4  bengaluru  \n",
            "7              5  bengaluru  \n",
            "8              6  bengaluru  \n",
            "9              7  bengaluru  \n",
            "\n",
            "[10 rows x 26 columns]\n",
            "\n",
            "Summary of DataFrame:\n",
            "<class 'pandas.core.frame.DataFrame'>\n",
            "RangeIndex: 771456 entries, 0 to 771455\n",
            "Data columns (total 26 columns):\n",
            " #   Column             Non-Null Count   Dtype  \n",
            "---  ------             --------------   -----  \n",
            " 0   date_time          771456 non-null  object \n",
            " 1   maxtempC           771456 non-null  int64  \n",
            " 2   mintempC           771456 non-null  int64  \n",
            " 3   totalSnow_cm       771456 non-null  float64\n",
            " 4   sunHour            771456 non-null  float64\n",
            " 5   uvIndex            771456 non-null  int64  \n",
            " 6   uvIndex.1          771456 non-null  int64  \n",
            " 7   moon_illumination  771456 non-null  int64  \n",
            " 8   moonrise           771456 non-null  object \n",
            " 9   moonset            771456 non-null  object \n",
            " 10  sunrise            771456 non-null  object \n",
            " 11  sunset             771456 non-null  object \n",
            " 12  DewPointC          771456 non-null  int64  \n",
            " 13  FeelsLikeC         771456 non-null  int64  \n",
            " 14  HeatIndexC         771456 non-null  int64  \n",
            " 15  WindChillC         771456 non-null  int64  \n",
            " 16  WindGustKmph       771456 non-null  int64  \n",
            " 17  cloudcover         771456 non-null  int64  \n",
            " 18  humidity           771456 non-null  int64  \n",
            " 19  precipMM           771456 non-null  float64\n",
            " 20  pressure           771456 non-null  int64  \n",
            " 21  tempC              771456 non-null  int64  \n",
            " 22  visibility         771456 non-null  int64  \n",
            " 23  winddirDegree      771456 non-null  int64  \n",
            " 24  windspeedKmph      771456 non-null  int64  \n",
            " 25  city               771456 non-null  object \n",
            "dtypes: float64(3), int64(17), object(6)\n",
            "memory usage: 153.0+ MB\n",
            "\n",
            "Descriptive statistics for numerical columns:\n",
            "            maxtempC       mintempC  totalSnow_cm        sunHour  \\\n",
            "count  771456.000000  771456.000000      771456.0  771456.000000   \n",
            "mean       31.961237      21.851201           0.0      10.853609   \n",
            "std         5.575411       5.880866           0.0       2.004205   \n",
            "min        12.000000       1.000000           0.0       3.800000   \n",
            "25%        28.000000      18.000000           0.0       8.700000   \n",
            "50%        31.000000      22.000000           0.0      11.600000   \n",
            "75%        35.000000      26.000000           0.0      11.900000   \n",
            "max        52.000000      43.000000           0.0      14.000000   \n",
            "\n",
            "             uvIndex      uvIndex.1  moon_illumination      DewPointC  \\\n",
            "count  771456.000000  771456.000000      771456.000000  771456.000000   \n",
            "mean        6.578335       4.311927          46.094077      14.492267   \n",
            "std         1.271368       3.213428          31.249583       7.617042   \n",
            "min         3.000000       1.000000           0.000000     -22.000000   \n",
            "25%         6.000000       1.000000          18.000000       9.000000   \n",
            "50%         6.000000       5.000000          46.000000      16.000000   \n",
            "75%         7.000000       7.000000          73.000000      21.000000   \n",
            "max        11.000000      11.000000         100.000000      31.000000   \n",
            "\n",
            "          FeelsLikeC    HeatIndexC     WindChillC   WindGustKmph  \\\n",
            "count  771456.000000  771456.00000  771456.000000  771456.000000   \n",
            "mean       28.968461      29.12832      27.656551      15.170196   \n",
            "std         7.436823       7.28062       6.598951       7.871760   \n",
            "min         4.000000       5.00000       4.000000       0.000000   \n",
            "25%        25.000000      25.00000      23.000000       9.000000   \n",
            "50%        29.000000      29.00000      27.000000      14.000000   \n",
            "75%        34.000000      34.00000      32.000000      20.000000   \n",
            "max        65.000000      65.00000      54.000000      85.000000   \n",
            "\n",
            "          cloudcover       humidity       precipMM       pressure  \\\n",
            "count  771456.000000  771456.000000  771456.000000  771456.000000   \n",
            "mean       22.838899      51.596677       0.067854    1008.523362   \n",
            "std        27.250547      24.475469       0.400212       5.837984   \n",
            "min         0.000000       2.000000       0.000000     986.000000   \n",
            "25%         1.000000      31.000000       0.000000    1005.000000   \n",
            "50%        10.000000      51.000000       0.000000    1009.000000   \n",
            "75%        39.000000      72.000000       0.000000    1013.000000   \n",
            "max       100.000000     100.000000      30.600000    1026.000000   \n",
            "\n",
            "               tempC     visibility  winddirDegree  windspeedKmph  \n",
            "count  771456.000000  771456.000000  771456.000000  771456.000000  \n",
            "mean       26.463334       9.713785     196.412810      10.622742  \n",
            "std         6.724919       1.432286      99.906071       5.530310  \n",
            "min         0.000000       0.000000       0.000000       0.000000  \n",
            "25%        22.000000      10.000000     101.000000       7.000000  \n",
            "50%        26.000000      10.000000     231.000000      10.000000  \n",
            "75%        31.000000      10.000000     281.000000      13.000000  \n",
            "max        51.000000      20.000000     360.000000      47.000000  \n",
            "\n",
            "Value counts for categorical columns (if any):\n",
            "\n",
            "Value counts for column 'date_time':\n",
            "date_time\n",
            "2020-01-01 07:00:00    8\n",
            "2020-01-01 06:00:00    8\n",
            "2020-01-01 05:00:00    8\n",
            "2020-01-01 04:00:00    8\n",
            "2020-01-01 03:00:00    8\n",
            "                      ..\n",
            "2009-01-01 04:00:00    8\n",
            "2009-01-01 03:00:00    8\n",
            "2009-01-01 02:00:00    8\n",
            "2009-01-01 01:00:00    8\n",
            "2009-01-01 00:00:00    8\n",
            "Name: count, Length: 96432, dtype: int64\n",
            "\n",
            "Value counts for column 'moonrise':\n",
            "moonrise\n",
            "No moonrise    26112\n",
            "10:54 PM         936\n",
            "12:04 AM         912\n",
            "02:43 AM         912\n",
            "12:09 AM         888\n",
            "               ...  \n",
            "06:12 AM         240\n",
            "01:15 AM         240\n",
            "05:53 AM         240\n",
            "09:26 PM         216\n",
            "09:08 AM         192\n",
            "Name: count, Length: 1441, dtype: int64\n",
            "\n",
            "Value counts for column 'moonset':\n",
            "moonset\n",
            "No moonset    26112\n",
            "12:17 PM        864\n",
            "04:08 PM        864\n",
            "12:04 AM        864\n",
            "05:59 AM        840\n",
            "              ...  \n",
            "12:18 PM        264\n",
            "12:44 AM        264\n",
            "03:55 AM        264\n",
            "01:55 PM        216\n",
            "03:54 PM        216\n",
            "Name: count, Length: 1441, dtype: int64\n",
            "\n",
            "Value counts for column 'sunrise':\n",
            "sunrise\n",
            "06:09 AM    18384\n",
            "06:01 AM    14376\n",
            "06:08 AM    12336\n",
            "06:02 AM    11640\n",
            "06:46 AM    11136\n",
            "            ...  \n",
            "05:19 AM     1392\n",
            "05:20 AM     1296\n",
            "07:18 AM     1200\n",
            "05:21 AM     1200\n",
            "05:22 AM     1104\n",
            "Name: count, Length: 124, dtype: int64\n",
            "\n",
            "Value counts for column 'sunset':\n",
            "sunset\n",
            "06:50 PM    13272\n",
            "06:31 PM    11016\n",
            "06:00 PM    10728\n",
            "06:49 PM    10296\n",
            "06:30 PM    10248\n",
            "            ...  \n",
            "05:19 PM     1392\n",
            "05:20 PM     1152\n",
            "05:22 PM     1032\n",
            "05:21 PM     1032\n",
            "05:23 PM      936\n",
            "Name: count, Length: 130, dtype: int64\n",
            "\n",
            "Value counts for column 'city':\n",
            "city\n",
            "bengaluru    96432\n",
            "bombay       96432\n",
            "delhi        96432\n",
            "hyderabad    96432\n",
            "jaipur       96432\n",
            "kanpur       96432\n",
            "nagpur       96432\n",
            "pune         96432\n",
            "Name: count, dtype: int64\n"
          ]
        }
      ],
      "source": [
        "print(\"First 10 rows of combined_df:\")\n",
        "print(combined_df.head(10))\n",
        "\n",
        "print(\"\\nSummary of DataFrame:\")\n",
        "combined_df.info()\n",
        "\n",
        "print(\"\\nDescriptive statistics for numerical columns:\")\n",
        "print(combined_df.describe())\n",
        "\n",
        "print(\"\\nValue counts for categorical columns (if any):\")\n",
        "for col in combined_df.select_dtypes(include='object').columns:\n",
        "    print(f\"\\nValue counts for column '{col}':\")\n",
        "    print(combined_df[col].value_counts())"
      ]
    },
    {
      "cell_type": "code",
      "execution_count": 133,
      "metadata": {
        "colab": {
          "base_uri": "https://localhost:8080/"
        },
        "id": "t0x0M_mo_v6m",
        "outputId": "e8dd7e5d-3d31-43f9-d1a9-113ecb5ff9e2"
      },
      "outputs": [
        {
          "name": "stdout",
          "output_type": "stream",
          "text": [
            "\n",
            "Number of missing values per column:\n",
            "date_time            0\n",
            "maxtempC             0\n",
            "mintempC             0\n",
            "totalSnow_cm         0\n",
            "sunHour              0\n",
            "uvIndex              0\n",
            "uvIndex.1            0\n",
            "moon_illumination    0\n",
            "moonrise             0\n",
            "moonset              0\n",
            "sunrise              0\n",
            "sunset               0\n",
            "DewPointC            0\n",
            "FeelsLikeC           0\n",
            "HeatIndexC           0\n",
            "WindChillC           0\n",
            "WindGustKmph         0\n",
            "cloudcover           0\n",
            "humidity             0\n",
            "precipMM             0\n",
            "pressure             0\n",
            "tempC                0\n",
            "visibility           0\n",
            "winddirDegree        0\n",
            "windspeedKmph        0\n",
            "city                 0\n",
            "dtype: int64\n"
          ]
        }
      ],
      "source": [
        "print(\"\\nNumber of missing values per column:\")\n",
        "print(combined_df.isnull().sum())"
      ]
    },
    {
      "cell_type": "code",
      "execution_count": 134,
      "metadata": {
        "colab": {
          "base_uri": "https://localhost:8080/",
          "height": 1000
        },
        "id": "on8Qh-YL_wjQ",
        "outputId": "67d111bc-52d8-4005-8105-6c6d99d68671"
      },
      "outputs": [
        {
          "data": {
            "image/png": "[encoded data removed]",
            "text/plain": [
              "<Figure size 600x400 with 1 Axes>"
            ]
          },
          "metadata": {},
          "output_type": "display_data"
        },
        {
          "data": {
            "image/png": "[encoded data removed]",
            "text/plain": [
              "<Figure size 600x400 with 1 Axes>"
            ]
          },
          "metadata": {},
          "output_type": "display_data"
        },
        {
          "data": {
            "image/png": "[encoded data removed]",
            "text/plain": [
              "<Figure size 600x400 with 1 Axes>"
            ]
          },
          "metadata": {},
          "output_type": "display_data"
        },
        {
          "data": {
            "image/png": "[encoded data removed]",
            "text/plain": [
              "<Figure size 600x400 with 1 Axes>"
            ]
          },
          "metadata": {},
          "output_type": "display_data"
        },
        {
          "data": {
            "image/png": "[encoded data removed]",
            "text/plain": [
              "<Figure size 600x400 with 1 Axes>"
            ]
          },
          "metadata": {},
          "output_type": "display_data"
        },
        {
          "data": {
            "image/png": "[encoded data removed]",
            "text/plain": [
              "<Figure size 600x400 with 1 Axes>"
            ]
          },
          "metadata": {},
          "output_type": "display_data"
        },
        {
          "data": {
            "image/png": "[encoded data removed]",
            "text/plain": [
              "<Figure size 600x400 with 1 Axes>"
            ]
          },
          "metadata": {},
          "output_type": "display_data"
        },
        {
          "data": {
            "image/png": "[encoded data removed]",
            "text/plain": [
              "<Figure size 600x400 with 1 Axes>"
            ]
          },
          "metadata": {},
          "output_type": "display_data"
        },
        {
          "data": {
            "image/png": "[encoded data removed]",
            "text/plain": [
              "<Figure size 600x400 with 1 Axes>"
            ]
          },
          "metadata": {},
          "output_type": "display_data"
        },
        {
          "data": {
            "image/png": "[encoded data removed]",
            "text/plain": [
              "<Figure size 600x400 with 1 Axes>"
            ]
          },
          "metadata": {},
          "output_type": "display_data"
        },
        {
          "data": {
            "image/png": "[encoded data removed]",
            "text/plain": [
              "<Figure size 600x400 with 1 Axes>"
            ]
          },
          "metadata": {},
          "output_type": "display_data"
        },
        {
          "data": {
            "image/png": "[encoded data removed]",
            "text/plain": [
              "<Figure size 600x400 with 1 Axes>"
            ]
          },
          "metadata": {},
          "output_type": "display_data"
        },
        {
          "data": {
            "image/png": "[encoded data removed]",
            "text/plain": [
              "<Figure size 600x400 with 1 Axes>"
            ]
          },
          "metadata": {},
          "output_type": "display_data"
        },
        {
          "data": {
            "image/png": "[encoded data removed]",
            "text/plain": [
              "<Figure size 600x400 with 1 Axes>"
            ]
          },
          "metadata": {},
          "output_type": "display_data"
        },
        {
          "data": {
            "image/png": "[encoded data removed]",
            "text/plain": [
              "<Figure size 600x400 with 1 Axes>"
            ]
          },
          "metadata": {},
          "output_type": "display_data"
        },
        {
          "data": {
            "image/png": "[encoded data removed]",
            "text/plain": [
              "<Figure size 600x400 with 1 Axes>"
            ]
          },
          "metadata": {},
          "output_type": "display_data"
        },
        {
          "data": {
            "image/png": "[encoded data removed]",
            "text/plain": [
              "<Figure size 600x400 with 1 Axes>"
            ]
          },
          "metadata": {},
          "output_type": "display_data"
        },
        {
          "data": {
            "image/png": "[encoded data removed]",
            "text/plain": [
              "<Figure size 600x400 with 1 Axes>"
            ]
          },
          "metadata": {},
          "output_type": "display_data"
        },
        {
          "data": {
            "image/png": "[encoded data removed]",
            "text/plain": [
              "<Figure size 600x400 with 1 Axes>"
            ]
          },
          "metadata": {},
          "output_type": "display_data"
        },
        {
          "data": {
            "image/png": "[encoded data removed]",
            "text/plain": [
              "<Figure size 600x400 with 1 Axes>"
            ]
          },
          "metadata": {},
          "output_type": "display_data"
        }
      ],
      "source": [
        "import matplotlib.pyplot as plt\n",
        "import seaborn as sns\n",
        "import numpy as np\n",
        "\n",
        "for col in combined_df.select_dtypes(include=np.number).columns:\n",
        "    plt.figure(figsize=(6, 4))\n",
        "    sns.boxplot(x=combined_df[col])\n",
        "    plt.title(f'Boxplot of {col}')\n",
        "    plt.show()"
      ]
    },
    {
      "cell_type": "markdown",
      "metadata": {
        "id": "jNOR7c8SRfR3"
      },
      "source": [
        "# Feature Selection"
      ]
    },
    {
      "cell_type": "markdown",
      "metadata": {
        "id": "rGLVLzK1R9ui"
      },
      "source": [
        "Dropping redundant values"
      ]
    },
    {
      "cell_type": "code",
      "execution_count": 135,
      "metadata": {
        "colab": {
          "base_uri": "https://localhost:8080/"
        },
        "id": "wGj9zFq7BVll",
        "outputId": "e41faa58-5f71-43ad-a60c-ce676e25ec42"
      },
      "outputs": [
        {
          "name": "stdout",
          "output_type": "stream",
          "text": [
            "Dropped duplicate column 'uvIndex.1'\n"
          ]
        }
      ],
      "source": [
        "if 'uvIndex.1' in combined_df.columns:\n",
        "    combined_df = combined_df.drop('uvIndex.1', axis=1)\n",
        "    print(\"Dropped duplicate column 'uvIndex.1'\")"
      ]
    },
    {
      "cell_type": "markdown",
      "metadata": {},
      "source": [
        "Temporal Features"
      ]
    },
    {
      "cell_type": "code",
      "execution_count": null,
      "metadata": {},
      "outputs": [],
      "source": [
        "# Add lag features and trends to capture time-dependent patterns\n",
        "combined_df['tempC_lag1'] = combined_df.groupby('city')['tempC'].shift(1)\n",
        "combined_df['pressure_lag1'] = combined_df.groupby('city')['pressure'].shift(1)\n",
        "combined_df['tempC_hourly_change'] = combined_df.groupby('city')['tempC'].diff()\n",
        "combined_df['pressure_trend'] = combined_df.groupby('city')['pressure'].diff(3)\n",
        "combined_df.fillna(0, inplace=True)"
      ]
    },
    {
      "cell_type": "markdown",
      "metadata": {
        "id": "idBlXWEtSK7K"
      },
      "source": [
        "Calculating correlation between FeelsLikeC, WindChillC and HeatIndexC"
      ]
    },
    {
      "cell_type": "code",
      "execution_count": 137,
      "metadata": {
        "colab": {
          "base_uri": "https://localhost:8080/"
        },
        "id": "daRWDS0jR67N",
        "outputId": "838cee74-566e-465d-a9d4-9e1a2129a118"
      },
      "outputs": [
        {
          "name": "stdout",
          "output_type": "stream",
          "text": [
            "\n",
            "Correlation between FeelsLikeC and WindChillC: 0.95\n",
            "Correlation between FeelsLikeC and HeatIndexC: 1.00\n"
          ]
        }
      ],
      "source": [
        "correlation_feel_chill = combined_df['FeelsLikeC'].corr(combined_df['WindChillC'])\n",
        "correlation_feel_heat = combined_df['FeelsLikeC'].corr(combined_df['HeatIndexC'])\n",
        "print(f\"\\nCorrelation between FeelsLikeC and WindChillC: {correlation_feel_chill:.2f}\")\n",
        "print(f\"Correlation between FeelsLikeC and HeatIndexC: {correlation_feel_heat:.2f}\")"
      ]
    },
    {
      "cell_type": "markdown",
      "metadata": {
        "id": "lbBYnEfxSzYk"
      },
      "source": [
        "Droping WindChillC and HeatIndexC because correlation > 0.95"
      ]
    },
    {
      "cell_type": "code",
      "execution_count": 138,
      "metadata": {
        "colab": {
          "base_uri": "https://localhost:8080/"
        },
        "id": "XO8pRj9TSmJB",
        "outputId": "ea5bbb61-08de-4de6-e305-86c015c037d7"
      },
      "outputs": [
        {
          "name": "stdout",
          "output_type": "stream",
          "text": [
            "Dropped 'WindChillC' due to high correlation with 'FeelsLikeC'\n",
            "Dropped 'HeatIndexC' due to high correlation with 'FeelsLikeC'\n"
          ]
        }
      ],
      "source": [
        "threshold = 0.95\n",
        "if abs(correlation_feel_chill) > threshold and 'WindChillC' in combined_df.columns:\n",
        "    combined_df = combined_df.drop('WindChillC', axis=1)\n",
        "    print(\"Dropped 'WindChillC' due to high correlation with 'FeelsLikeC'\")\n",
        "if abs(correlation_feel_heat) > threshold and 'HeatIndexC' in combined_df.columns:\n",
        "    combined_df = combined_df.drop('HeatIndexC', axis=1)\n",
        "    print(\"Dropped 'HeatIndexC' due to high correlation with 'FeelsLikeC'\")"
      ]
    },
    {
      "cell_type": "markdown",
      "metadata": {
        "id": "3Ti2IK36TbS8"
      },
      "source": [
        "Finding each city's longitude and latitude"
      ]
    },
    {
      "cell_type": "code",
      "execution_count": 139,
      "metadata": {
        "id": "3SHAqTHQTf1l"
      },
      "outputs": [],
      "source": [
        "from geopy.geocoders import Nominatim\n",
        "geolocator = Nominatim(user_agent=\"weather_forecast\")\n",
        "\n",
        "def get_lat_lon(city):\n",
        "    try:\n",
        "        location = geolocator.geocode(city + \", India\")\n",
        "        if location:\n",
        "            return location.latitude, location.longitude\n",
        "        else:\n",
        "            return None, None\n",
        "    except Exception as e:\n",
        "        print(f\"Error geocoding {city}: {e}\")\n",
        "        return None, None\n",
        "\n",
        "unique_cities = combined_df['city'].unique()\n",
        "# city_coordinates = {}\n",
        "\n",
        "# for city in unique_cities:\n",
        "#     if city not in city_coordinates:\n",
        "#         latitude, longitude = get_lat_lon(city)\n",
        "#         city_coordinates[city] = (latitude, longitude)\n",
        "#         print(f\"Coordinates for {city}: Lat={latitude}, Lon={longitude}\")"
      ]
    },
    {
      "cell_type": "markdown",
      "metadata": {
        "id": "TgXxfqUWU7Tj"
      },
      "source": [
        "Did not get reliable data from geopy so adding coordinates mannually."
      ]
    },
    {
      "cell_type": "code",
      "execution_count": 140,
      "metadata": {
        "id": "9cvB7dGxU6Wg"
      },
      "outputs": [],
      "source": [
        "city_coordinates = {\n",
        "    'delhi': (28.6273928, 77.1716954),\n",
        "    'nagpur': (21.1498134, 79.0820556),\n",
        "    'kanpur': (26.4609135, 80.3217588),\n",
        "    'bombay': (19.054999, 72.8692035),\n",
        "    'bengaluru': (12.971599, 77.594566),\n",
        "    'pune': (18.5213738, 73.8545071),\n",
        "    'hyderabad': (17.360589, 78.4740613),\n",
        "    'jaipur': (26.9154576, 75.8189817),\n",
        "}"
      ]
    },
    {
      "cell_type": "markdown",
      "metadata": {
        "id": "zd2d_5Y_WlLp"
      },
      "source": [
        "Adding longitude and latitude of cities as features"
      ]
    },
    {
      "cell_type": "code",
      "execution_count": 141,
      "metadata": {
        "colab": {
          "base_uri": "https://localhost:8080/"
        },
        "id": "o2PGfbKVTx-y",
        "outputId": "4f00f165-383e-42f6-8754-1e47e4abe703"
      },
      "outputs": [
        {
          "name": "stdout",
          "output_type": "stream",
          "text": [
            "Added 'latitude' and 'longitude' columns.\n"
          ]
        }
      ],
      "source": [
        "combined_df['latitude'] = combined_df['city'].map(lambda city: city_coordinates.get(city, (None, None))[0])\n",
        "combined_df['longitude'] = combined_df['city'].map(lambda city: city_coordinates.get(city, (None, None))[1])\n",
        "\n",
        "print(\"Added 'latitude' and 'longitude' columns.\")"
      ]
    },
    {
      "cell_type": "code",
      "execution_count": 142,
      "metadata": {
        "colab": {
          "base_uri": "https://localhost:8080/"
        },
        "id": "qv_MRpltWp78",
        "outputId": "703af3ac-c72b-4a7d-907a-2dd2bc3260f4"
      },
      "outputs": [
        {
          "name": "stdout",
          "output_type": "stream",
          "text": [
            "\n",
            "Converted objects column to datetime objects.\n"
          ]
        }
      ],
      "source": [
        "# Convert 'date_time' to datetime objects\n",
        "combined_df['date_time'] = pd.to_datetime(combined_df['date_time'])\n",
        "print(\"\\nConverted objects column to datetime objects.\")"
      ]
    },
    {
      "cell_type": "code",
      "execution_count": 143,
      "metadata": {
        "colab": {
          "base_uri": "https://localhost:8080/"
        },
        "id": "KvNrHoUWIN6f",
        "outputId": "40e1031a-ca59-4adc-fed3-9ed9aa8762c7"
      },
      "outputs": [
        {
          "name": "stdout",
          "output_type": "stream",
          "text": [
            "    sunrise sunrise_time    sunset sunset_time  moonrise moonrise_time  \\\n",
            "0  06:42 AM     06:42:00  06:05 PM    18:05:00  09:58 AM      09:58:00   \n",
            "1  06:42 AM     06:42:00  06:05 PM    18:05:00  09:58 AM      09:58:00   \n",
            "2  06:42 AM     06:42:00  06:05 PM    18:05:00  09:58 AM      09:58:00   \n",
            "3  06:42 AM     06:42:00  06:05 PM    18:05:00  09:58 AM      09:58:00   \n",
            "4  06:42 AM     06:42:00  06:05 PM    18:05:00  09:58 AM      09:58:00   \n",
            "\n",
            "    moonset moonset_time  \n",
            "0  10:03 PM     22:03:00  \n",
            "1  10:03 PM     22:03:00  \n",
            "2  10:03 PM     22:03:00  \n",
            "3  10:03 PM     22:03:00  \n",
            "4  10:03 PM     22:03:00  \n",
            "\n",
            "Dropped the original sunrise, sunset, moonrise, and moonset string columns.\n",
            "Index(['date_time', 'maxtempC', 'mintempC', 'totalSnow_cm', 'sunHour',\n",
            "       'uvIndex', 'moon_illumination', 'DewPointC', 'FeelsLikeC',\n",
            "       'WindGustKmph', 'cloudcover', 'humidity', 'precipMM', 'pressure',\n",
            "       'tempC', 'visibility', 'winddirDegree', 'windspeedKmph', 'city',\n",
            "       'tempC_lag1', 'pressure_lag1', 'tempC_hourly_change', 'pressure_trend',\n",
            "       'latitude', 'longitude', 'sunrise_time', 'sunset_time', 'moonrise_time',\n",
            "       'moonset_time'],\n",
            "      dtype='object')\n"
          ]
        }
      ],
      "source": [
        "def convert_time_to_time_object(time_str):\n",
        "    \"\"\"Converts a time string in HH:MM AM/PM format to a datetime.time object.\"\"\"\n",
        "    try:\n",
        "        from datetime import datetime\n",
        "        if isinstance(time_str, str):\n",
        "            time_obj = datetime.strptime(time_str, '%I:%M %p').time()\n",
        "            return time_obj\n",
        "        else:\n",
        "            return None  # Handle non-string values (e.g., NaN)\n",
        "    except ValueError:\n",
        "        return None  # Handle cases where the format might be incorrect\n",
        "\n",
        "# Apply the conversion function to each of the time columns\n",
        "combined_df['sunrise_time'] = combined_df['sunrise'].apply(convert_time_to_time_object)\n",
        "combined_df['sunset_time'] = combined_df['sunset'].apply(convert_time_to_time_object)\n",
        "combined_df['moonrise_time'] = combined_df['moonrise'].apply(convert_time_to_time_object)\n",
        "combined_df['moonset_time'] = combined_df['moonset'].apply(convert_time_to_time_object)\n",
        "\n",
        "# Display the first few rows with the new time columns\n",
        "print(combined_df[['sunrise', 'sunrise_time', 'sunset', 'sunset_time', 'moonrise', 'moonrise_time', 'moonset', 'moonset_time']].head())\n",
        "\n",
        "# Drop the original string columns since we only the time objects\n",
        "combined_df = combined_df.drop(columns=['sunrise', 'sunset', 'moonrise', 'moonset'])\n",
        "print(\"\\nDropped the original sunrise, sunset, moonrise, and moonset string columns.\")\n",
        "print(combined_df.columns)"
      ]
    },
    {
      "cell_type": "code",
      "execution_count": 144,
      "metadata": {
        "colab": {
          "base_uri": "https://localhost:8080/"
        },
        "id": "8EABQIyXXWtd",
        "outputId": "b229a7d2-9b72-497c-d35f-1e2dff2f26c3"
      },
      "outputs": [
        {
          "name": "stdout",
          "output_type": "stream",
          "text": [
            "\n",
            "Extracted temporal features: 'hour', 'dayofweek', 'month', 'dayofyear'.\n"
          ]
        }
      ],
      "source": [
        "# Extract temporal features\n",
        "combined_df['hour'] = combined_df['date_time'].dt.hour\n",
        "combined_df['dayofweek'] = combined_df['date_time'].dt.dayofweek  # Monday=0, Sunday=6\n",
        "combined_df['month'] = combined_df['date_time'].dt.month\n",
        "combined_df['dayofyear'] = combined_df['date_time'].dt.dayofyear\n",
        "print(\"\\nExtracted temporal features: 'hour', 'dayofweek', 'month', 'dayofyear'.\")"
      ]
    },
    {
      "cell_type": "markdown",
      "metadata": {
        "id": "M8mCPBHSYT7V"
      },
      "source": [
        "Weather conditions"
      ]
    },
    {
      "cell_type": "code",
      "execution_count": 145,
      "metadata": {
        "colab": {
          "base_uri": "https://localhost:8080/"
        },
        "id": "R5ESj8_CYFx_",
        "outputId": "67dd2248-68ce-47a3-ddb6-830b64a23a60"
      },
      "outputs": [
        {
          "name": "stdout",
          "output_type": "stream",
          "text": [
            "\n",
            "Created a more detailed 'weather_condition' target variable.\n",
            "weather_condition\n",
            "clear     385276\n",
            "sunny     244734\n",
            "cloudy    126324\n",
            "rainy      15122\n",
            "Name: count, dtype: int64\n",
            "            date_time  maxtempC  mintempC  totalSnow_cm  sunHour  uvIndex  \\\n",
            "0 2009-01-01 00:00:00        27        12           0.0     11.6        5   \n",
            "1 2009-01-01 01:00:00        27        12           0.0     11.6        5   \n",
            "2 2009-01-01 02:00:00        27        12           0.0     11.6        5   \n",
            "3 2009-01-01 03:00:00        27        12           0.0     11.6        5   \n",
            "4 2009-01-01 04:00:00        27        12           0.0     11.6        5   \n",
            "\n",
            "   moon_illumination  DewPointC  FeelsLikeC  WindGustKmph  ...  longitude  \\\n",
            "0                 31         16          18            11  ...  77.594566   \n",
            "1                 31         16          17             9  ...  77.594566   \n",
            "2                 31         15          16             7  ...  77.594566   \n",
            "3                 31         15          15             5  ...  77.594566   \n",
            "4                 31         15          18             5  ...  77.594566   \n",
            "\n",
            "   sunrise_time  sunset_time  moonrise_time  moonset_time  hour  dayofweek  \\\n",
            "0      06:42:00     18:05:00       09:58:00      22:03:00     0          3   \n",
            "1      06:42:00     18:05:00       09:58:00      22:03:00     1          3   \n",
            "2      06:42:00     18:05:00       09:58:00      22:03:00     2          3   \n",
            "3      06:42:00     18:05:00       09:58:00      22:03:00     3          3   \n",
            "4      06:42:00     18:05:00       09:58:00      22:03:00     4          3   \n",
            "\n",
            "   month dayofyear  weather_condition  \n",
            "0      1         1              clear  \n",
            "1      1         1              clear  \n",
            "2      1         1              clear  \n",
            "3      1         1              clear  \n",
            "4      1         1              clear  \n",
            "\n",
            "[5 rows x 34 columns]\n"
          ]
        }
      ],
      "source": [
        "def categorize_weather(row):\n",
        "    if row['precipMM'] > 1:\n",
        "        return 'rainy'\n",
        "    elif row['totalSnow_cm'] > 0.1:\n",
        "        return 'snowy'\n",
        "    elif row['cloudcover'] < 10:\n",
        "        return 'clear'\n",
        "    elif row['cloudcover'] < 50:\n",
        "        return 'sunny'\n",
        "    else:\n",
        "        return 'cloudy'\n",
        "\n",
        "combined_df['weather_condition'] = combined_df.apply(categorize_weather, axis=1)\n",
        "print(\"\\nCreated a more detailed 'weather_condition' target variable.\")\n",
        "print(combined_df['weather_condition'].value_counts())\n",
        "print(combined_df.head())"
      ]
    },
    {
      "cell_type": "code",
      "execution_count": 146,
      "metadata": {
        "colab": {
          "base_uri": "https://localhost:8080/"
        },
        "id": "IC7yOr30a4vx",
        "outputId": "26c4d9d2-6981-4f02-a36a-5b9a90b6f493"
      },
      "outputs": [
        {
          "name": "stdout",
          "output_type": "stream",
          "text": [
            "   winddirDegree winddir_text\n",
            "0            109            E\n",
            "1             85          ENE\n",
            "2             61           NE\n",
            "3             37          NNE\n",
            "4             45           NE\n",
            "winddir_text\n",
            "WSW    99515\n",
            "W      94973\n",
            "WNW    74034\n",
            "E      64808\n",
            "ENE    56860\n",
            "SW     54225\n",
            "NW     50001\n",
            "ESE    48772\n",
            "N      46825\n",
            "NE     43797\n",
            "NNE    34668\n",
            "SE     33040\n",
            "SSW    26340\n",
            "SSE    21852\n",
            "S      21501\n",
            "Name: count, dtype: int64\n"
          ]
        }
      ],
      "source": [
        "def degrees_to_direction(degrees):\n",
        "    \"\"\"Converts wind direction in degrees to a textual representation (e.g., NNW, S, SW).\"\"\"\n",
        "    degrees = float(degrees)\n",
        "    if 337.5 <= degrees < 360 or 0 <= degrees < 22.5:\n",
        "        return \"N\"\n",
        "    elif 22.5 <= degrees < 45:\n",
        "        return \"NNE\"\n",
        "    elif 45 <= degrees < 67.5:\n",
        "        return \"NE\"\n",
        "    elif 67.5 <= degrees < 90:\n",
        "        return \"ENE\"\n",
        "    elif 90 <= degrees < 112.5:\n",
        "        return \"E\"\n",
        "    elif 112.5 <= degrees < 135:\n",
        "        return \"ESE\"\n",
        "    elif 135 <= degrees < 157.5:\n",
        "        return \"SE\"\n",
        "    elif 157.5 <= degrees < 180:\n",
        "        return \"SSE\"\n",
        "    elif 180 <= degrees < 202.5:\n",
        "        return \"S\"\n",
        "    elif 202.5 <= degrees < 225:\n",
        "        return \"SSW\"\n",
        "    elif 225 <= degrees < 247.5:\n",
        "        return \"SW\"\n",
        "    elif 247.5 <= degrees < 270:\n",
        "        return \"WSW\"\n",
        "    elif 270 <= degrees < 292.5:\n",
        "        return \"W\"\n",
        "    elif 292.5 <= degrees < 315:\n",
        "        return \"WNW\"\n",
        "    elif 315 <= degrees < 337.5:\n",
        "        return \"NW\"\n",
        "    else:\n",
        "        return None  # Handle cases with invalid degree values\n",
        "\n",
        "# Apply the function to the 'winddirDegree' column to create a new 'winddir_text' column\n",
        "combined_df['winddir_text'] = combined_df['winddirDegree'].apply(degrees_to_direction)\n",
        "\n",
        "print(combined_df[['winddirDegree', 'winddir_text']].head())\n",
        "print(combined_df['winddir_text'].value_counts())"
      ]
    },
    {
      "cell_type": "code",
      "execution_count": 147,
      "metadata": {
        "colab": {
          "base_uri": "https://localhost:8080/"
        },
        "id": "-2a1B8cGYWNb",
        "outputId": "fd9028f7-9608-43bc-941b-2cae1c220b31"
      },
      "outputs": [
        {
          "data": {
            "text/plain": [
              "Index(['date_time', 'maxtempC', 'mintempC', 'totalSnow_cm', 'sunHour',\n",
              "       'uvIndex', 'moon_illumination', 'DewPointC', 'FeelsLikeC',\n",
              "       'WindGustKmph', 'cloudcover', 'humidity', 'precipMM', 'pressure',\n",
              "       'tempC', 'visibility', 'winddirDegree', 'windspeedKmph', 'city',\n",
              "       'tempC_lag1', 'pressure_lag1', 'tempC_hourly_change', 'pressure_trend',\n",
              "       'latitude', 'longitude', 'sunrise_time', 'sunset_time', 'moonrise_time',\n",
              "       'moonset_time', 'hour', 'dayofweek', 'month', 'dayofyear',\n",
              "       'weather_condition', 'winddir_text'],\n",
              "      dtype='object')"
            ]
          },
          "execution_count": 147,
          "metadata": {},
          "output_type": "execute_result"
        }
      ],
      "source": [
        "combined_df.columns"
      ]
    },
    {
      "cell_type": "markdown",
      "metadata": {
        "id": "tvCGqZgPZmQt"
      },
      "source": [
        "Correlation between feature and target variables"
      ]
    },
    {
      "cell_type": "code",
      "execution_count": 148,
      "metadata": {
        "colab": {
          "base_uri": "https://localhost:8080/"
        },
        "id": "eRIQeK3bYtoZ",
        "outputId": "2900adda-88b2-473c-ba4e-bb46a7b44b54"
      },
      "outputs": [
        {
          "name": "stdout",
          "output_type": "stream",
          "text": [
            "\n",
            "Correlation with tempC:\n",
            "  latitude: 0.110\n",
            "  longitude: 0.038\n",
            "  hour: 0.095\n",
            "  dayofweek: -0.001\n",
            "  month: -0.071\n",
            "  dayofyear: -0.073\n",
            "  pressure: -0.657\n",
            "  visibility: 0.121\n",
            "\n",
            "Correlation with FeelsLikeC:\n",
            "  latitude: 0.165\n",
            "  longitude: -0.024\n",
            "  hour: 0.062\n",
            "  dayofweek: -0.002\n",
            "  month: -0.011\n",
            "  dayofyear: -0.014\n",
            "  pressure: -0.695\n",
            "  visibility: 0.107\n",
            "\n",
            "Correlation with humidity:\n",
            "  latitude: -0.357\n",
            "  longitude: -0.193\n",
            "  hour: -0.079\n",
            "  dayofweek: 0.002\n",
            "  month: 0.274\n",
            "  dayofyear: 0.272\n",
            "  pressure: -0.034\n",
            "  visibility: -0.351\n",
            "\n",
            "Correlation with windspeedKmph:\n",
            "  latitude: -0.191\n",
            "  longitude: -0.034\n",
            "  hour: 0.039\n",
            "  dayofweek: -0.003\n",
            "  month: -0.048\n",
            "  dayofyear: -0.048\n",
            "  pressure: -0.259\n",
            "  visibility: 0.009\n",
            "\n",
            "Correlation with precipMM:\n",
            "  latitude: -0.053\n",
            "  longitude: -0.051\n",
            "  hour: 0.008\n",
            "  dayofweek: -0.002\n",
            "  month: 0.053\n",
            "  dayofyear: 0.052\n",
            "  pressure: -0.122\n",
            "  visibility: -0.310\n",
            "\n",
            "Correlation with maxtempC:\n",
            "  latitude: 0.186\n",
            "  longitude: 0.131\n",
            "  hour: 0.000\n",
            "  dayofweek: -0.003\n",
            "  month: -0.179\n",
            "  dayofyear: -0.181\n",
            "  pressure: -0.591\n",
            "  visibility: 0.172\n",
            "\n",
            "Correlation with mintempC:\n",
            "  latitude: 0.064\n",
            "  longitude: -0.038\n",
            "  hour: 0.000\n",
            "  dayofweek: -0.002\n",
            "  month: 0.037\n",
            "  dayofyear: 0.033\n",
            "  pressure: -0.770\n",
            "  visibility: 0.016\n",
            "\n",
            "Correlation with winddirDegree:\n",
            "  latitude: 0.083\n",
            "  longitude: -0.067\n",
            "  hour: 0.047\n",
            "  dayofweek: -0.001\n",
            "  month: -0.067\n",
            "  dayofyear: -0.067\n",
            "  pressure: -0.224\n",
            "  visibility: -0.008\n",
            "\n",
            "Correlation with cloudcover:\n",
            "  latitude: -0.244\n",
            "  longitude: -0.057\n",
            "  hour: -0.024\n",
            "  dayofweek: 0.003\n",
            "  month: 0.210\n",
            "  dayofyear: 0.208\n",
            "  pressure: -0.312\n",
            "  visibility: -0.398\n"
          ]
        }
      ],
      "source": [
        "numerical_targets = ['tempC', 'FeelsLikeC', 'humidity', 'windspeedKmph', 'precipMM', 'maxtempC', 'mintempC', 'winddirDegree', 'cloudcover']\n",
        "numerical_features = ['latitude', 'longitude', 'hour', 'dayofweek', 'month', 'dayofyear', 'pressure', 'visibility']\n",
        "\n",
        "for target in numerical_targets:\n",
        "    print(f\"\\nCorrelation with {target}:\")\n",
        "    for feature in numerical_features:\n",
        "        if feature in combined_df.columns and target in combined_df.columns:\n",
        "            correlation = combined_df[target].corr(combined_df[feature])\n",
        "            print(f\"  {feature}: {correlation:.3f}\")\n",
        "        else:\n",
        "            print(f\"  {feature}: Feature or target not found in DataFrame\")"
      ]
    },
    {
      "cell_type": "code",
      "execution_count": 149,
      "metadata": {
        "colab": {
          "base_uri": "https://localhost:8080/",
          "height": 1000
        },
        "id": "g4VyZQjbZawB",
        "outputId": "b19849fe-da03-4108-b914-364822ef7118"
      },
      "outputs": [
        {
          "data": {
            "image/png": "[encoded data removed]",
            "text/plain": [
              "<Figure size 1000x600 with 1 Axes>"
            ]
          },
          "metadata": {},
          "output_type": "display_data"
        },
        {
          "data": {
            "image/png": "[encoded data removed]",
            "text/plain": [
              "<Figure size 1000x600 with 1 Axes>"
            ]
          },
          "metadata": {},
          "output_type": "display_data"
        },
        {
          "data": {
            "image/png": "[encoded data removed]",
            "text/plain": [
              "<Figure size 1000x600 with 1 Axes>"
            ]
          },
          "metadata": {},
          "output_type": "display_data"
        }
      ],
      "source": [
        "def stacked_bar_chart(data, x, hue, title):\n",
        "      cross_tab = pd.crosstab(data[x], data[hue])\n",
        "      cross_tab.plot(kind='bar', stacked=True, figsize=(10, 6))\n",
        "      plt.title(title)\n",
        "      plt.xlabel(x)\n",
        "      plt.ylabel(\"Count\")\n",
        "      plt.xticks(rotation=45)\n",
        "      plt.show()\n",
        "\n",
        "for feature in ['hour', 'dayofweek', 'month']:\n",
        "    if feature in combined_df.columns:\n",
        "        stacked_bar_chart(combined_df, feature, 'weather_condition', f\"Weather Condition Distribution by {feature}\")\n",
        "    else:\n",
        "        print(f\"Skipping stacked bar chart: {feature} not found\")"
      ]
    },
    {
      "cell_type": "code",
      "execution_count": 150,
      "metadata": {
        "colab": {
          "base_uri": "https://localhost:8080/",
          "height": 1000
        },
        "id": "l2PgdVxVce7R",
        "outputId": "5cb0bf57-b7e7-45ac-91d0-0d7ff90e9d4c"
      },
      "outputs": [
        {
          "data": {
            "image/png": "[encoded data removed]",
            "text/plain": [
              "<Figure size 800x600 with 1 Axes>"
            ]
          },
          "metadata": {},
          "output_type": "display_data"
        },
        {
          "data": {
            "image/png": "[encoded data removed]",
            "text/plain": [
              "<Figure size 800x600 with 1 Axes>"
            ]
          },
          "metadata": {},
          "output_type": "display_data"
        },
        {
          "data": {
            "image/png": "[encoded data removed]",
            "text/plain": [
              "<Figure size 800x600 with 1 Axes>"
            ]
          },
          "metadata": {},
          "output_type": "display_data"
        },
        {
          "data": {
            "image/png": "[encoded data removed]",
            "text/plain": [
              "<Figure size 800x600 with 1 Axes>"
            ]
          },
          "metadata": {},
          "output_type": "display_data"
        },
        {
          "data": {
            "image/png": "[encoded data removed]",
            "text/plain": [
              "<Figure size 800x600 with 1 Axes>"
            ]
          },
          "metadata": {},
          "output_type": "display_data"
        },
        {
          "data": {
            "image/png": "[encoded data removed]",
            "text/plain": [
              "<Figure size 800x600 with 1 Axes>"
            ]
          },
          "metadata": {},
          "output_type": "display_data"
        },
        {
          "data": {
            "image/png": "[encoded data removed]",
            "text/plain": [
              "<Figure size 800x600 with 1 Axes>"
            ]
          },
          "metadata": {},
          "output_type": "display_data"
        },
        {
          "data": {
            "image/png": "[encoded data removed]",
            "text/plain": [
              "<Figure size 800x600 with 1 Axes>"
            ]
          },
          "metadata": {},
          "output_type": "display_data"
        }
      ],
      "source": [
        "for feature in numerical_features:\n",
        "      if feature in combined_df.columns:\n",
        "          plt.figure(figsize=(8, 6))\n",
        "          sns.boxplot(x=combined_df['weather_condition'], y=combined_df[feature])\n",
        "          plt.title(f\"{feature} by Weather Condition\")\n",
        "          plt.xlabel(\"Weather Condition\")\n",
        "          plt.ylabel(feature)\n",
        "          plt.show()\n",
        "      else:\n",
        "          print(f\"Skipping boxplot: {feature} not found\")"
      ]
    },
    {
      "cell_type": "markdown",
      "metadata": {
        "id": "XVo4BWPp7rAm"
      },
      "source": [
        "Sorting dataframe by datetime so that prediction is made on future unseen data"
      ]
    },
    {
      "cell_type": "code",
      "execution_count": 151,
      "metadata": {
        "colab": {
          "base_uri": "https://localhost:8080/"
        },
        "id": "oYqlJ3Afcfeh",
        "outputId": "522128e8-b9b0-4ec7-ff52-f6e91139a2fb"
      },
      "outputs": [
        {
          "name": "stdout",
          "output_type": "stream",
          "text": [
            "DataFrame sorted by 'date_time'.\n"
          ]
        }
      ],
      "source": [
        "combined_df = combined_df.sort_values(by='date_time').reset_index(drop=True)\n",
        "print(\"DataFrame sorted by 'date_time'.\")"
      ]
    },
    {
      "cell_type": "code",
      "execution_count": 152,
      "metadata": {
        "id": "dI7YWSrrTlR2"
      },
      "outputs": [],
      "source": [
        "import datetime\n",
        "def time_to_minutes(time_obj):\n",
        "    if isinstance(time_obj, datetime.time):\n",
        "        return time_obj.hour * 60 + time_obj.minute\n",
        "    else:\n",
        "        return None\n",
        "\n",
        "combined_df['sunrise_minutes'] = combined_df['sunrise_time'].apply(time_to_minutes)\n",
        "combined_df['sunset_minutes'] = combined_df['sunset_time'].apply(time_to_minutes)\n",
        "combined_df['moonrise_minutes'] = combined_df['moonrise_time'].apply(time_to_minutes)\n",
        "combined_df['moonset_minutes'] = combined_df['moonset_time'].apply(time_to_minutes)"
      ]
    },
    {
      "cell_type": "markdown",
      "metadata": {
        "id": "VYfaiWiB_ZfX"
      },
      "source": [
        "Handling Categorical Features for Modeling"
      ]
    },
    {
      "cell_type": "code",
      "execution_count": 153,
      "metadata": {
        "colab": {
          "base_uri": "https://localhost:8080/"
        },
        "id": "uvJUOBfV8oGG",
        "outputId": "934383f5-1a3d-4237-dc29-9f91a6a953f7"
      },
      "outputs": [
        {
          "name": "stdout",
          "output_type": "stream",
          "text": [
            "One-hot encoded 'city'\n",
            "Label encoded 'weather_condition' into 'weather_condition_encoded'.\n"
          ]
        }
      ],
      "source": [
        "# One-Hot Encoding for 'city'\n",
        "combined_df = pd.get_dummies(combined_df, columns=['city'], drop_first=True)\n",
        "print(\"One-hot encoded 'city'\")\n",
        "\n",
        "# Label Encode for 'weather_condition' for some classification models\n",
        "from sklearn.preprocessing import LabelEncoder\n",
        "le = LabelEncoder()\n",
        "combined_df['weather_condition_encoded'] = le.fit_transform(combined_df['weather_condition'])\n",
        "print(\"Label encoded 'weather_condition' into 'weather_condition_encoded'.\")"
      ]
    },
    {
      "cell_type": "markdown",
      "metadata": {
        "id": "LKByY4ck_Lin"
      },
      "source": [
        "Scaling numerical features"
      ]
    },
    {
      "cell_type": "code",
      "execution_count": 154,
      "metadata": {
        "colab": {
          "base_uri": "https://localhost:8080/"
        },
        "id": "Xp6rbd8w_PuP",
        "outputId": "55e7f167-f784-4a3c-ba12-577915f25299"
      },
      "outputs": [
        {
          "name": "stdout",
          "output_type": "stream",
          "text": [
            "Scaled numerical features.\n"
          ]
        }
      ],
      "source": [
        "from sklearn.preprocessing import StandardScaler\n",
        "\n",
        "numerical_cols = combined_df.select_dtypes(include=np.number).columns.tolist()\n",
        "# Exclude the target variables and potentially identifier columns\n",
        "cols_to_scale = [col for col in numerical_cols if col not in ['weather_condition_encoded'] and col not in ['latitude', 'longitude']]\n",
        "\n",
        "scaler = StandardScaler()\n",
        "combined_df[cols_to_scale] = scaler.fit_transform(combined_df[cols_to_scale])\n",
        "print(\"Scaled numerical features.\")"
      ]
    },
    {
      "cell_type": "code",
      "execution_count": 155,
      "metadata": {
        "colab": {
          "base_uri": "https://localhost:8080/"
        },
        "id": "wiZ2E8ZZ_7s2",
        "outputId": "93729acb-cb61-4ccd-9313-4c35da36edbf"
      },
      "outputs": [
        {
          "name": "stdout",
          "output_type": "stream",
          "text": [
            "<class 'pandas.core.frame.DataFrame'>\n",
            "RangeIndex: 771456 entries, 0 to 771455\n",
            "Data columns (total 46 columns):\n",
            " #   Column                     Non-Null Count   Dtype         \n",
            "---  ------                     --------------   -----         \n",
            " 0   date_time                  771456 non-null  datetime64[ns]\n",
            " 1   maxtempC                   771456 non-null  float64       \n",
            " 2   mintempC                   771456 non-null  float64       \n",
            " 3   totalSnow_cm               771456 non-null  float64       \n",
            " 4   sunHour                    771456 non-null  float64       \n",
            " 5   uvIndex                    771456 non-null  float64       \n",
            " 6   moon_illumination          771456 non-null  float64       \n",
            " 7   DewPointC                  771456 non-null  float64       \n",
            " 8   FeelsLikeC                 771456 non-null  float64       \n",
            " 9   WindGustKmph               771456 non-null  float64       \n",
            " 10  cloudcover                 771456 non-null  float64       \n",
            " 11  humidity                   771456 non-null  float64       \n",
            " 12  precipMM                   771456 non-null  float64       \n",
            " 13  pressure                   771456 non-null  float64       \n",
            " 14  tempC                      771456 non-null  float64       \n",
            " 15  visibility                 771456 non-null  float64       \n",
            " 16  winddirDegree              771456 non-null  float64       \n",
            " 17  windspeedKmph              771456 non-null  float64       \n",
            " 18  tempC_lag1                 771456 non-null  float64       \n",
            " 19  pressure_lag1              771456 non-null  float64       \n",
            " 20  tempC_hourly_change        771456 non-null  float64       \n",
            " 21  pressure_trend             771456 non-null  float64       \n",
            " 22  latitude                   771456 non-null  float64       \n",
            " 23  longitude                  771456 non-null  float64       \n",
            " 24  sunrise_time               771456 non-null  object        \n",
            " 25  sunset_time                771456 non-null  object        \n",
            " 26  moonrise_time              745344 non-null  object        \n",
            " 27  moonset_time               745344 non-null  object        \n",
            " 28  hour                       771456 non-null  float64       \n",
            " 29  dayofweek                  771456 non-null  float64       \n",
            " 30  month                      771456 non-null  float64       \n",
            " 31  dayofyear                  771456 non-null  float64       \n",
            " 32  weather_condition          771456 non-null  object        \n",
            " 33  winddir_text               771211 non-null  object        \n",
            " 34  sunrise_minutes            771456 non-null  float64       \n",
            " 35  sunset_minutes             771456 non-null  float64       \n",
            " 36  moonrise_minutes           745344 non-null  float64       \n",
            " 37  moonset_minutes            745344 non-null  float64       \n",
            " 38  city_bombay                771456 non-null  bool          \n",
            " 39  city_delhi                 771456 non-null  bool          \n",
            " 40  city_hyderabad             771456 non-null  bool          \n",
            " 41  city_jaipur                771456 non-null  bool          \n",
            " 42  city_kanpur                771456 non-null  bool          \n",
            " 43  city_nagpur                771456 non-null  bool          \n",
            " 44  city_pune                  771456 non-null  bool          \n",
            " 45  weather_condition_encoded  771456 non-null  int64         \n",
            "dtypes: bool(7), datetime64[ns](1), float64(31), int64(1), object(6)\n",
            "memory usage: 234.7+ MB\n"
          ]
        }
      ],
      "source": [
        "combined_df.info()"
      ]
    },
    {
      "cell_type": "markdown",
      "metadata": {
        "id": "RVCsx4a3O0qt"
      },
      "source": [
        "# Model Training"
      ]
    },
    {
      "cell_type": "markdown",
      "metadata": {
        "id": "RQfs-tlAPTOm"
      },
      "source": [
        "Importing all the models and performance metrics"
      ]
    },
    {
      "cell_type": "code",
      "execution_count": 156,
      "metadata": {
        "id": "BbvDmlUCO6Ne"
      },
      "outputs": [],
      "source": [
        "import pandas as pd\n",
        "from sklearn.model_selection import train_test_split, GridSearchCV\n",
        "from sklearn.preprocessing import StandardScaler\n",
        "from sklearn.linear_model import LinearRegression\n",
        "from sklearn.ensemble import RandomForestRegressor, GradientBoostingRegressor\n",
        "from sklearn.svm import SVR\n",
        "from sklearn.ensemble import RandomForestClassifier, GradientBoostingClassifier\n",
        "from sklearn.metrics import mean_squared_error, accuracy_score, f1_score\n",
        "from sklearn.neural_network import MLPRegressor, MLPClassifier\n",
        "import numpy as np\n",
        "import datetime"
      ]
    },
    {
      "cell_type": "code",
      "execution_count": 157,
      "metadata": {
        "colab": {
          "base_uri": "https://localhost:8080/"
        },
        "id": "QIcP8ZcKUX6R",
        "outputId": "b753df7e-aaa9-46c9-ab65-6402eb190039"
      },
      "outputs": [
        {
          "name": "stdout",
          "output_type": "stream",
          "text": [
            "date_time                    False\n",
            "maxtempC                     False\n",
            "mintempC                     False\n",
            "totalSnow_cm                 False\n",
            "sunHour                      False\n",
            "uvIndex                      False\n",
            "moon_illumination            False\n",
            "DewPointC                    False\n",
            "FeelsLikeC                   False\n",
            "WindGustKmph                 False\n",
            "cloudcover                   False\n",
            "humidity                     False\n",
            "precipMM                     False\n",
            "pressure                     False\n",
            "tempC                        False\n",
            "visibility                   False\n",
            "winddirDegree                False\n",
            "windspeedKmph                False\n",
            "tempC_lag1                   False\n",
            "pressure_lag1                False\n",
            "tempC_hourly_change          False\n",
            "pressure_trend               False\n",
            "latitude                     False\n",
            "longitude                    False\n",
            "sunrise_time                 False\n",
            "sunset_time                  False\n",
            "moonrise_time                 True\n",
            "moonset_time                  True\n",
            "hour                         False\n",
            "dayofweek                    False\n",
            "month                        False\n",
            "dayofyear                    False\n",
            "weather_condition            False\n",
            "winddir_text                  True\n",
            "sunrise_minutes              False\n",
            "sunset_minutes               False\n",
            "moonrise_minutes              True\n",
            "moonset_minutes               True\n",
            "city_bombay                  False\n",
            "city_delhi                   False\n",
            "city_hyderabad               False\n",
            "city_jaipur                  False\n",
            "city_kanpur                  False\n",
            "city_nagpur                  False\n",
            "city_pune                    False\n",
            "weather_condition_encoded    False\n",
            "dtype: bool\n",
            "date_time                        0\n",
            "maxtempC                         0\n",
            "mintempC                         0\n",
            "totalSnow_cm                     0\n",
            "sunHour                          0\n",
            "uvIndex                          0\n",
            "moon_illumination                0\n",
            "DewPointC                        0\n",
            "FeelsLikeC                       0\n",
            "WindGustKmph                     0\n",
            "cloudcover                       0\n",
            "humidity                         0\n",
            "precipMM                         0\n",
            "pressure                         0\n",
            "tempC                            0\n",
            "visibility                       0\n",
            "winddirDegree                    0\n",
            "windspeedKmph                    0\n",
            "tempC_lag1                       0\n",
            "pressure_lag1                    0\n",
            "tempC_hourly_change              0\n",
            "pressure_trend                   0\n",
            "latitude                         0\n",
            "longitude                        0\n",
            "sunrise_time                     0\n",
            "sunset_time                      0\n",
            "moonrise_time                26112\n",
            "moonset_time                 26112\n",
            "hour                             0\n",
            "dayofweek                        0\n",
            "month                            0\n",
            "dayofyear                        0\n",
            "weather_condition                0\n",
            "winddir_text                   245\n",
            "sunrise_minutes                  0\n",
            "sunset_minutes                   0\n",
            "moonrise_minutes             26112\n",
            "moonset_minutes              26112\n",
            "city_bombay                      0\n",
            "city_delhi                       0\n",
            "city_hyderabad                   0\n",
            "city_jaipur                      0\n",
            "city_kanpur                      0\n",
            "city_nagpur                      0\n",
            "city_pune                        0\n",
            "weather_condition_encoded        0\n",
            "dtype: int64\n",
            "True\n"
          ]
        }
      ],
      "source": [
        "print(combined_df.isnull().any())  # Returns True/False for each column if it contains any NaN\n",
        "print(combined_df.isnull().sum())  # Returns the count of NaN values in each column\n",
        "print(combined_df.isnull().values.any())  # Returns True if the entire DataFrame contains at least one NaN"
      ]
    },
    {
      "cell_type": "markdown",
      "metadata": {
        "id": "evkBuLDwXHoQ"
      },
      "source": [
        "Dropping the moonrise and moonset related columns and deleting rows where winddir_test is NaN"
      ]
    },
    {
      "cell_type": "code",
      "execution_count": 158,
      "metadata": {
        "colab": {
          "base_uri": "https://localhost:8080/"
        },
        "id": "8F8gL9aQW4Ii",
        "outputId": "2a5c5073-96de-4267-ee74-961d4dfc3be8"
      },
      "outputs": [
        {
          "name": "stdout",
          "output_type": "stream",
          "text": [
            "NaN values after dropping columns and rows:\n",
            "date_time                    0\n",
            "maxtempC                     0\n",
            "mintempC                     0\n",
            "totalSnow_cm                 0\n",
            "sunHour                      0\n",
            "uvIndex                      0\n",
            "moon_illumination            0\n",
            "DewPointC                    0\n",
            "FeelsLikeC                   0\n",
            "WindGustKmph                 0\n",
            "cloudcover                   0\n",
            "humidity                     0\n",
            "precipMM                     0\n",
            "pressure                     0\n",
            "tempC                        0\n",
            "visibility                   0\n",
            "winddirDegree                0\n",
            "windspeedKmph                0\n",
            "tempC_lag1                   0\n",
            "pressure_lag1                0\n",
            "tempC_hourly_change          0\n",
            "pressure_trend               0\n",
            "latitude                     0\n",
            "longitude                    0\n",
            "sunrise_time                 0\n",
            "sunset_time                  0\n",
            "hour                         0\n",
            "dayofweek                    0\n",
            "month                        0\n",
            "dayofyear                    0\n",
            "weather_condition            0\n",
            "winddir_text                 0\n",
            "sunrise_minutes              0\n",
            "sunset_minutes               0\n",
            "city_bombay                  0\n",
            "city_delhi                   0\n",
            "city_hyderabad               0\n",
            "city_jaipur                  0\n",
            "city_kanpur                  0\n",
            "city_nagpur                  0\n",
            "city_pune                    0\n",
            "weather_condition_encoded    0\n",
            "dtype: int64\n"
          ]
        }
      ],
      "source": [
        "# Drop specified columns\n",
        "columns_to_drop = ['moonrise_time', 'moonset_time', 'moonrise_minutes', 'moonset_minutes']\n",
        "combined_df = combined_df.drop(columns=columns_to_drop, errors='ignore')\n",
        "# The 'errors='ignore' argument will prevent an error if any of these columns don't exist.\n",
        "\n",
        "# Delete rows where 'winddir_text' is NaN\n",
        "combined_df = combined_df.dropna(subset=['winddir_text'])\n",
        "\n",
        "# Verify the changes\n",
        "print(\"NaN values after dropping columns and rows:\")\n",
        "print(combined_df.isnull().sum())"
      ]
    },
    {
      "cell_type": "markdown",
      "metadata": {
        "id": "yf-BSWZCXAX_"
      },
      "source": [
        "Splitting the data into test and train"
      ]
    },
    {
      "cell_type": "code",
      "execution_count": 159,
      "metadata": {
        "colab": {
          "base_uri": "https://localhost:8080/"
        },
        "id": "iPgjdq2gW_Y4",
        "outputId": "85e58261-b39a-48eb-a575-ff3eee85dc30"
      },
      "outputs": [
        {
          "name": "stdout",
          "output_type": "stream",
          "text": [
            "Data split and scaled.\n",
            "X_train shape: (616968, 13), X_test shape: (154243, 13)\n",
            "y_train_reg shape: (616968, 11), y_test_reg shape: (154243, 11)\n",
            "y_train_clf shape: (616968,), y_test_clf shape: (154243,)\n"
          ]
        }
      ],
      "source": [
        "# Sort by date_time\n",
        "combined_df = combined_df.sort_values(by='date_time').reset_index(drop=True)\n",
        "\n",
        "# Define features (X)\n",
        "X = combined_df[[\n",
        "    'hour', 'dayofweek', 'month', 'dayofyear', 'latitude', 'longitude',\n",
        "    'city_bombay', 'city_delhi', 'city_hyderabad', 'city_jaipur',\n",
        "    'city_kanpur', 'city_nagpur', 'city_pune'\n",
        "]]\n",
        "\n",
        "# Define target variables (y)\n",
        "y_regression = combined_df[[\n",
        "    'tempC', 'maxtempC', 'mintempC', 'FeelsLikeC', 'winddirDegree',\n",
        "    'humidity', 'cloudcover', 'windspeedKmph', 'precipMM',\n",
        "    'sunrise_minutes', 'sunset_minutes'\n",
        "]]\n",
        "y_classification = combined_df['weather_condition_encoded']\n",
        "\n",
        "# Split data\n",
        "X_train, X_test, y_train_reg, y_test_reg, y_train_clf, y_test_clf = train_test_split(\n",
        "    X, y_regression, y_classification, test_size=0.2, random_state=42, shuffle=False\n",
        ")\n",
        "\n",
        "# Initialize StandardScaler\n",
        "scaler = StandardScaler()\n",
        "\n",
        "# Fit and transform X_train, and transform X_test\n",
        "X_train_scaled = scaler.fit_transform(X_train)\n",
        "X_test_scaled = scaler.transform(X_test)\n",
        "\n",
        "print(\"Data split and scaled.\")\n",
        "print(f\"X_train shape: {X_train.shape}, X_test shape: {X_test.shape}\")\n",
        "print(f\"y_train_reg shape: {y_train_reg.shape}, y_test_reg shape: {y_test_reg.shape}\")\n",
        "print(f\"y_train_clf shape: {y_train_clf.shape}, y_test_clf shape: {y_test_clf.shape}\")"
      ]
    },
    {
      "cell_type": "code",
      "execution_count": null,
      "metadata": {},
      "outputs": [],
      "source": [
        "\n",
        "# Original features + new temporal features\n",
        "lag_features = ['tempC_lag1', 'pressure_lag1', 'tempC_hourly_change', 'pressure_trend']\n",
        "selected_features = [col for col in X.columns if col not in lag_features] + lag_features  # Preserve original features\n",
        "X = combined_df[selected_features]"
      ]
    },
    {
      "cell_type": "markdown",
      "metadata": {
        "id": "WOsHmquXXYME"
      },
      "source": [
        "Training the models on the data"
      ]
    },
    {
      "cell_type": "markdown",
      "metadata": {
        "id": "SgOrrQCXRR_o"
      },
      "source": [
        "Regression models"
      ]
    },
    {
      "cell_type": "code",
      "execution_count": 162,
      "metadata": {
        "colab": {
          "base_uri": "https://localhost:8080/"
        },
        "id": "a40QwlHv0woi",
        "outputId": "4a2b74be-f5db-4173-86c1-b0a5ecfb2213"
      },
      "outputs": [
        {
          "name": "stdout",
          "output_type": "stream",
          "text": [
            "\n",
            "--- Regression Models (Multi-Output) ---\n",
            "Random Forest Regressor Mean MSE: 0.58\n",
            "Neural Network Regressor Mean MSE: 0.47\n",
            "Multi-Output Linear Regression Mean MSE: 1.02\n",
            "[LightGBM] [Info] Auto-choosing row-wise multi-threading, the overhead of testing was 0.017481 seconds.\n",
            "You can set `force_row_wise=true` to remove the overhead.\n",
            "And if memory is not enough, you can set `force_col_wise=true`.\n",
            "[LightGBM] [Info] Total Bins 338\n",
            "[LightGBM] [Info] Number of data points in the train set: 616968, number of used features: 13\n",
            "[LightGBM] [Info] Start training from score -0.023258\n",
            "[LightGBM] [Info] Auto-choosing row-wise multi-threading, the overhead of testing was 0.018470 seconds.\n",
            "You can set `force_row_wise=true` to remove the overhead.\n",
            "And if memory is not enough, you can set `force_col_wise=true`.\n",
            "[LightGBM] [Info] Total Bins 338\n",
            "[LightGBM] [Info] Number of data points in the train set: 616968, number of used features: 13\n",
            "[LightGBM] [Info] Start training from score 0.011559\n",
            "[LightGBM] [Info] Auto-choosing row-wise multi-threading, the overhead of testing was 0.012641 seconds.\n",
            "You can set `force_row_wise=true` to remove the overhead.\n",
            "And if memory is not enough, you can set `force_col_wise=true`.\n",
            "[LightGBM] [Info] Total Bins 338\n",
            "[LightGBM] [Info] Number of data points in the train set: 616968, number of used features: 13\n",
            "[LightGBM] [Info] Start training from score -0.053346\n",
            "[LightGBM] [Info] Auto-choosing row-wise multi-threading, the overhead of testing was 0.016246 seconds.\n",
            "You can set `force_row_wise=true` to remove the overhead.\n",
            "And if memory is not enough, you can set `force_col_wise=true`.\n",
            "[LightGBM] [Info] Total Bins 338\n",
            "[LightGBM] [Info] Number of data points in the train set: 616968, number of used features: 13\n",
            "[LightGBM] [Info] Start training from score -0.008314\n",
            "[LightGBM] [Info] Auto-choosing row-wise multi-threading, the overhead of testing was 0.016705 seconds.\n",
            "You can set `force_row_wise=true` to remove the overhead.\n",
            "And if memory is not enough, you can set `force_col_wise=true`.\n",
            "[LightGBM] [Info] Total Bins 338\n",
            "[LightGBM] [Info] Number of data points in the train set: 616968, number of used features: 13\n",
            "[LightGBM] [Info] Start training from score 0.014753\n",
            "[LightGBM] [Info] Auto-choosing row-wise multi-threading, the overhead of testing was 0.012196 seconds.\n",
            "You can set `force_row_wise=true` to remove the overhead.\n",
            "And if memory is not enough, you can set `force_col_wise=true`.\n",
            "[LightGBM] [Info] Total Bins 338\n",
            "[LightGBM] [Info] Number of data points in the train set: 616968, number of used features: 13\n",
            "[LightGBM] [Info] Start training from score 0.020184\n",
            "[LightGBM] [Info] Auto-choosing row-wise multi-threading, the overhead of testing was 0.016701 seconds.\n",
            "You can set `force_row_wise=true` to remove the overhead.\n",
            "And if memory is not enough, you can set `force_col_wise=true`.\n",
            "[LightGBM] [Info] Total Bins 338\n",
            "[LightGBM] [Info] Number of data points in the train set: 616968, number of used features: 13\n",
            "[LightGBM] [Info] Start training from score -0.014280\n",
            "[LightGBM] [Info] Auto-choosing row-wise multi-threading, the overhead of testing was 0.012553 seconds.\n",
            "You can set `force_row_wise=true` to remove the overhead.\n",
            "And if memory is not enough, you can set `force_col_wise=true`.\n",
            "[LightGBM] [Info] Total Bins 338\n",
            "[LightGBM] [Info] Number of data points in the train set: 616968, number of used features: 13\n",
            "[LightGBM] [Info] Start training from score -0.048088\n",
            "[LightGBM] [Info] Auto-choosing row-wise multi-threading, the overhead of testing was 0.012579 seconds.\n",
            "You can set `force_row_wise=true` to remove the overhead.\n",
            "And if memory is not enough, you can set `force_col_wise=true`.\n",
            "[LightGBM] [Info] Total Bins 338\n",
            "[LightGBM] [Info] Number of data points in the train set: 616968, number of used features: 13\n",
            "[LightGBM] [Info] Start training from score -0.029474\n",
            "[LightGBM] [Info] Auto-choosing row-wise multi-threading, the overhead of testing was 0.016427 seconds.\n",
            "You can set `force_row_wise=true` to remove the overhead.\n",
            "And if memory is not enough, you can set `force_col_wise=true`.\n",
            "[LightGBM] [Info] Total Bins 338\n",
            "[LightGBM] [Info] Number of data points in the train set: 616968, number of used features: 13\n",
            "[LightGBM] [Info] Start training from score -0.016979\n",
            "[LightGBM] [Info] Auto-choosing row-wise multi-threading, the overhead of testing was 0.012821 seconds.\n",
            "You can set `force_row_wise=true` to remove the overhead.\n",
            "And if memory is not enough, you can set `force_col_wise=true`.\n",
            "[LightGBM] [Info] Total Bins 338\n",
            "[LightGBM] [Info] Number of data points in the train set: 616968, number of used features: 13\n",
            "[LightGBM] [Info] Start training from score 0.030572\n"
          ]
        },
        {
          "name": "stderr",
          "output_type": "stream",
          "text": [
            "c:\\Users\\deepa\\OneDrive\\Programming\\Projects\\GitHub\\Self_Updating-_Weather_forecast_System\\.venv\\Lib\\site-packages\\sklearn\\utils\\validation.py:2739: UserWarning: X does not have valid feature names, but LGBMRegressor was fitted with feature names\n",
            "  warnings.warn(\n",
            "c:\\Users\\deepa\\OneDrive\\Programming\\Projects\\GitHub\\Self_Updating-_Weather_forecast_System\\.venv\\Lib\\site-packages\\sklearn\\utils\\validation.py:2739: UserWarning: X does not have valid feature names, but LGBMRegressor was fitted with feature names\n",
            "  warnings.warn(\n",
            "c:\\Users\\deepa\\OneDrive\\Programming\\Projects\\GitHub\\Self_Updating-_Weather_forecast_System\\.venv\\Lib\\site-packages\\sklearn\\utils\\validation.py:2739: UserWarning: X does not have valid feature names, but LGBMRegressor was fitted with feature names\n",
            "  warnings.warn(\n",
            "c:\\Users\\deepa\\OneDrive\\Programming\\Projects\\GitHub\\Self_Updating-_Weather_forecast_System\\.venv\\Lib\\site-packages\\sklearn\\utils\\validation.py:2739: UserWarning: X does not have valid feature names, but LGBMRegressor was fitted with feature names\n",
            "  warnings.warn(\n",
            "c:\\Users\\deepa\\OneDrive\\Programming\\Projects\\GitHub\\Self_Updating-_Weather_forecast_System\\.venv\\Lib\\site-packages\\sklearn\\utils\\validation.py:2739: UserWarning: X does not have valid feature names, but LGBMRegressor was fitted with feature names\n",
            "  warnings.warn(\n",
            "c:\\Users\\deepa\\OneDrive\\Programming\\Projects\\GitHub\\Self_Updating-_Weather_forecast_System\\.venv\\Lib\\site-packages\\sklearn\\utils\\validation.py:2739: UserWarning: X does not have valid feature names, but LGBMRegressor was fitted with feature names\n",
            "  warnings.warn(\n",
            "c:\\Users\\deepa\\OneDrive\\Programming\\Projects\\GitHub\\Self_Updating-_Weather_forecast_System\\.venv\\Lib\\site-packages\\sklearn\\utils\\validation.py:2739: UserWarning: X does not have valid feature names, but LGBMRegressor was fitted with feature names\n",
            "  warnings.warn(\n",
            "c:\\Users\\deepa\\OneDrive\\Programming\\Projects\\GitHub\\Self_Updating-_Weather_forecast_System\\.venv\\Lib\\site-packages\\sklearn\\utils\\validation.py:2739: UserWarning: X does not have valid feature names, but LGBMRegressor was fitted with feature names\n",
            "  warnings.warn(\n",
            "c:\\Users\\deepa\\OneDrive\\Programming\\Projects\\GitHub\\Self_Updating-_Weather_forecast_System\\.venv\\Lib\\site-packages\\sklearn\\utils\\validation.py:2739: UserWarning: X does not have valid feature names, but LGBMRegressor was fitted with feature names\n",
            "  warnings.warn(\n",
            "c:\\Users\\deepa\\OneDrive\\Programming\\Projects\\GitHub\\Self_Updating-_Weather_forecast_System\\.venv\\Lib\\site-packages\\sklearn\\utils\\validation.py:2739: UserWarning: X does not have valid feature names, but LGBMRegressor was fitted with feature names\n",
            "  warnings.warn(\n",
            "c:\\Users\\deepa\\OneDrive\\Programming\\Projects\\GitHub\\Self_Updating-_Weather_forecast_System\\.venv\\Lib\\site-packages\\sklearn\\utils\\validation.py:2739: UserWarning: X does not have valid feature names, but LGBMRegressor was fitted with feature names\n",
            "  warnings.warn(\n"
          ]
        },
        {
          "name": "stdout",
          "output_type": "stream",
          "text": [
            "LightGBM Regressor MSE: 0.4619\n"
          ]
        }
      ],
      "source": [
        "print(\"\\n--- Regression Models (Multi-Output) ---\")\n",
        "\n",
        "# Random Forest Regressor\n",
        "rf_reg = RandomForestRegressor(random_state=42)\n",
        "rf_reg.fit(X_train_scaled, y_train_reg)\n",
        "rf_predictions = rf_reg.predict(X_test_scaled)\n",
        "rf_mse = mean_squared_error(y_test_reg, rf_predictions)\n",
        "print(f\"Random Forest Regressor Mean MSE: {rf_mse:.2f}\")\n",
        "\n",
        "# Neural Network Regressor (MLPRegressor)\n",
        "mlp_reg = MLPRegressor(random_state=42, max_iter=300, hidden_layer_sizes=(64, 64))\n",
        "mlp_reg.fit(X_train_scaled, y_train_reg)\n",
        "mlp_predictions = mlp_reg.predict(X_test_scaled)\n",
        "mlp_mse = mean_squared_error(y_test_reg, mlp_predictions)\n",
        "print(f\"Neural Network Regressor Mean MSE: {mlp_mse:.2f}\")\n",
        "\n",
        "# Linear Regression and SVR are inherently single-output.\n",
        "# For multi-output with these, we will use MultiOutputRegressor wrapper.\n",
        "from sklearn.multioutput import MultiOutputRegressor\n",
        "\n",
        "# Multi-Output Linear Regression\n",
        "mor_lr = MultiOutputRegressor(LinearRegression())\n",
        "mor_lr.fit(X_train_scaled, y_train_reg)\n",
        "mor_lr_predictions = mor_lr.predict(X_test_scaled)\n",
        "mor_lr_mse = mean_squared_error(y_test_reg, mor_lr_predictions)\n",
        "print(f\"Multi-Output Linear Regression Mean MSE: {mor_lr_mse:.2f}\")\n",
        "\n",
        "# LightGBM Regressor (Multi-Output)\n",
        "from lightgbm import LGBMRegressor\n",
        "from sklearn.multioutput import MultiOutputRegressor\n",
        "\n",
        "# Wrap LightGBM with MultiOutputRegressor\n",
        "lgb_reg = MultiOutputRegressor(LGBMRegressor(n_estimators=100, random_state=42))\n",
        "lgb_reg.fit(X_train_scaled, y_train_reg)\n",
        "lgb_reg_preds = lgb_reg.predict(X_test_scaled)\n",
        "lgb_mse = mean_squared_error(y_test_reg, lgb_reg_preds)\n",
        "print(f\"LightGBM Regressor MSE: {lgb_mse:.4f}\")\n",
        "\n"
      ]
    },
    {
      "cell_type": "markdown",
      "metadata": {
        "id": "ESe4QLQFROZu"
      },
      "source": [
        "Classification models"
      ]
    },
    {
      "cell_type": "code",
      "execution_count": 163,
      "metadata": {
        "id": "RACZdbGiQyta"
      },
      "outputs": [
        {
          "name": "stdout",
          "output_type": "stream",
          "text": [
            "\n",
            "--- Classification Models ---\n",
            "Random Forest Classifier Accuracy: 0.58, F1-score: 0.57\n",
            "Neural Network Classifier Accuracy: 0.64, F1-score: 0.61\n",
            "[LightGBM] [Info] Auto-choosing row-wise multi-threading, the overhead of testing was 0.019275 seconds.\n",
            "You can set `force_row_wise=true` to remove the overhead.\n",
            "And if memory is not enough, you can set `force_col_wise=true`.\n",
            "[LightGBM] [Info] Total Bins 338\n",
            "[LightGBM] [Info] Number of data points in the train set: 616968, number of used features: 13\n",
            "[LightGBM] [Info] Start training from score -0.692473\n",
            "[LightGBM] [Info] Start training from score -1.839656\n",
            "[LightGBM] [Info] Start training from score -4.136128\n",
            "[LightGBM] [Info] Start training from score -1.124527\n"
          ]
        },
        {
          "name": "stderr",
          "output_type": "stream",
          "text": [
            "c:\\Users\\deepa\\OneDrive\\Programming\\Projects\\GitHub\\Self_Updating-_Weather_forecast_System\\.venv\\Lib\\site-packages\\sklearn\\utils\\validation.py:2739: UserWarning: X does not have valid feature names, but LGBMClassifier was fitted with feature names\n",
            "  warnings.warn(\n"
          ]
        },
        {
          "name": "stdout",
          "output_type": "stream",
          "text": [
            "LightGBM Classifier Accuracy: 0.64, F1-score: 0.61\n"
          ]
        }
      ],
      "source": [
        "# --- Classification Models ---\n",
        "print(\"\\n--- Classification Models ---\")\n",
        "\n",
        "# Random Forest Classifier\n",
        "rf_clf = RandomForestClassifier(random_state=42, n_estimators=20)\n",
        "rf_clf.fit(X_train_scaled, y_train_clf)\n",
        "rf_predictions_clf = rf_clf.predict(X_test_scaled)\n",
        "rf_accuracy_clf = accuracy_score(y_test_clf, rf_predictions_clf)\n",
        "rf_f1_clf = f1_score(y_test_clf, rf_predictions_clf, average='weighted')\n",
        "print(f\"Random Forest Classifier Accuracy: {rf_accuracy_clf:.2f}, F1-score: {rf_f1_clf:.2f}\")\n",
        "\n",
        "# Neural Network Classifier (MLPClassifier)\n",
        "mlp_clf = MLPClassifier(random_state=42, max_iter=300, hidden_layer_sizes=(64, 64))\n",
        "mlp_clf.fit(X_train_scaled, y_train_clf)\n",
        "mlp_predictions_clf = mlp_clf.predict(X_test_scaled)\n",
        "mlp_accuracy_clf = accuracy_score(y_test_clf, mlp_predictions_clf)\n",
        "mlp_f1_clf = f1_score(y_test_clf, mlp_predictions_clf, average='weighted')\n",
        "print(f\"Neural Network Classifier Accuracy: {mlp_accuracy_clf:.2f}, F1-score: {mlp_f1_clf:.2f}\")\n",
        "\n",
        "# LightGBM Classifier\n",
        "from lightgbm import LGBMClassifier\n",
        "lgb_clf = LGBMClassifier(n_estimators=100, random_state=42)\n",
        "lgb_clf.fit(X_train_scaled, y_train_clf)\n",
        "lgb_predictions_clf = lgb_clf.predict(X_test_scaled)\n",
        "lgb_accuracy_clf = accuracy_score(y_test_clf, lgb_predictions_clf)\n",
        "lgb_f1_clf = f1_score(y_test_clf, lgb_predictions_clf, average='weighted')\n",
        "print(f\"LightGBM Classifier Accuracy: {lgb_accuracy_clf:.2f}, F1-score: {lgb_f1_clf:.2f}\")"
      ]
    },
    {
      "cell_type": "code",
      "execution_count": 164,
      "metadata": {
        "id": "TxXYfq5rRI_K"
      },
      "outputs": [
        {
          "name": "stdout",
          "output_type": "stream",
          "text": [
            "\n",
            "--- Finding the Best Model ---\n",
            "\n",
            "Regression Models (lower MSE is better):\n",
            "Multi output Linear Regression: 1.02\n",
            "Random Forest Regressor: 0.58\n",
            "Neural Network Regressor: 0.47\n",
            "LightGBM Regressor: 0.46\n",
            "\n",
            "Best Regression Model: LightGBM Regressor (MSE: 0.46)\n"
          ]
        }
      ],
      "source": [
        "# --- Finding the Best Model ---\n",
        "print(\"\\n--- Finding the Best Model ---\")\n",
        "\n",
        "# Regression Models\n",
        "print(\"\\nRegression Models (lower MSE is better):\")\n",
        "best_reg_model = None\n",
        "best_reg_mse = float('inf')\n",
        "reg_results = {\n",
        "    \"Multi output Linear Regression\": mor_lr_mse,\n",
        "    \"Random Forest Regressor\": rf_mse,\n",
        "    \"Neural Network Regressor\": mlp_mse,\n",
        "    \"LightGBM Regressor\": lgb_mse \n",
        "}\n",
        "for name, mse in reg_results.items():\n",
        "    print(f\"{name}: {mse:.2f}\")\n",
        "    if mse < best_reg_mse:\n",
        "        best_reg_mse = mse\n",
        "        best_reg_model = name\n",
        "print(f\"\\nBest Regression Model: {best_reg_model} (MSE: {best_reg_mse:.2f})\")"
      ]
    },
    {
      "cell_type": "code",
      "execution_count": 165,
      "metadata": {
        "id": "6BFxVcO-Q3Jy"
      },
      "outputs": [
        {
          "name": "stdout",
          "output_type": "stream",
          "text": [
            "\n",
            "Best Regression Model based on MSE: LightGBM Regressor (MSE: 0.46)\n"
          ]
        }
      ],
      "source": [
        "print(f\"\\nBest Regression Model based on MSE: {best_reg_model} (MSE: {best_reg_mse:.2f})\")"
      ]
    },
    {
      "cell_type": "code",
      "execution_count": 166,
      "metadata": {
        "id": "1EvxfWNsRiWU"
      },
      "outputs": [
        {
          "name": "stdout",
          "output_type": "stream",
          "text": [
            "\n",
            "Classification Models (higher Accuracy and F1-score are better):\n",
            "Random Forest Classifier: Accuracy = 0.58, F1-score = 0.57\n",
            "Neural Network Classifier: Accuracy = 0.64, F1-score = 0.61\n",
            "LightGBM Classifier: Accuracy = 0.64, F1-score = 0.61\n"
          ]
        }
      ],
      "source": [
        "# Classification Models\n",
        "print(\"\\nClassification Models (higher Accuracy and F1-score are better):\")\n",
        "best_clf_model_acc = None\n",
        "best_clf_accuracy = 0.0\n",
        "best_clf_model_f1 = None\n",
        "best_clf_f1 = 0.0\n",
        "clf_results = {\n",
        "    \"Random Forest Classifier\": (rf_accuracy_clf, rf_f1_clf),\n",
        "    \"Neural Network Classifier\": (mlp_accuracy_clf, mlp_f1_clf),\n",
        "    \"LightGBM Classifier\": (lgb_accuracy_clf, lgb_f1_clf)\n",
        "}\n",
        "for name, (accuracy, f1) in clf_results.items():\n",
        "    print(f\"{name}: Accuracy = {accuracy:.2f}, F1-score = {f1:.2f}\")\n",
        "    if accuracy > best_clf_accuracy:\n",
        "        best_clf_accuracy = accuracy\n",
        "        best_clf_model_acc = name\n",
        "    if f1 > best_clf_f1:\n",
        "        best_clf_f1 = f1\n",
        "        best_clf_model_f1 = name"
      ]
    },
    {
      "cell_type": "code",
      "execution_count": 167,
      "metadata": {
        "id": "gJxT3bpORoG-"
      },
      "outputs": [
        {
          "name": "stdout",
          "output_type": "stream",
          "text": [
            "\n",
            "Best Classification Model based on Accuracy: LightGBM Classifier (Accuracy: 0.64)\n",
            "Best Classification Model based on F1-score: LightGBM Classifier (F1-score: 0.61)\n"
          ]
        }
      ],
      "source": [
        "print(f\"\\nBest Classification Model based on Accuracy: {best_clf_model_acc} (Accuracy: {best_clf_accuracy:.2f})\")\n",
        "print(f\"Best Classification Model based on F1-score: {best_clf_model_f1} (F1-score: {best_clf_f1:.2f})\")"
      ]
    },
    {
      "cell_type": "markdown",
      "metadata": {
        "id": "j2TG0_hFVeLc"
      },
      "source": [
        "# Hyperparameter Tuning"
      ]
    },
    {
      "cell_type": "code",
      "execution_count": null,
      "metadata": {
        "id": "bqlDLBR8VpvJ"
      },
      "outputs": [],
      "source": [
        "from sklearn.neural_network import MLPClassifier, MLPRegressor\n",
        "from sklearn.model_selection import GridSearchCV, RandomizedSearchCV, KFold\n",
        "from sklearn.metrics import accuracy_score, f1_score, mean_squared_error\n",
        "import numpy as np"
      ]
    },
    {
      "cell_type": "code",
      "execution_count": 169,
      "metadata": {
        "id": "iPAm7DgYVqV1"
      },
      "outputs": [],
      "source": [
        "# Cross-validation setup\n",
        "cv = KFold(n_splits=5, shuffle=True, random_state=42)"
      ]
    },
    {
      "cell_type": "markdown",
      "metadata": {},
      "source": [
        "### MLP Hyperparameter Tuning"
      ]
    },
    {
      "cell_type": "code",
      "execution_count": 170,
      "metadata": {
        "id": "W3BzJugSVx34"
      },
      "outputs": [],
      "source": [
        "# --- Hyperparameter tuning for MLPClassifier ---\n",
        "param_grid_mlp_clf = {\n",
        "    'hidden_layer_sizes': [(32,), (64,), (32, 16), (64, 32)],\n",
        "    'activation': ['relu', 'tanh'],\n",
        "    'solver': ['adam', 'lbfgs'],\n",
        "    'alpha': [0.0001, 0.001],\n",
        "    'learning_rate_init': [0.001, 0.01],\n",
        "    'max_iter': [200, 300]\n",
        "}\n",
        "\n",
        "param_distributions_mlp_clf = {\n",
        "    'hidden_layer_sizes': [(np.random.randint(20, 80),), (np.random.randint(20, 80), np.random.randint(20, 80))],\n",
        "    'activation': ['relu', 'tanh', 'logistic'],\n",
        "    'solver': ['adam', 'sgd'],\n",
        "    'alpha': np.logspace(-5, -2, 3),\n",
        "    'learning_rate_init': np.logspace(-4, -1, 3),\n",
        "    'batch_size': [32, 64],\n",
        "    'max_iter': [200, 400],\n",
        "    'early_stopping': [True, False]\n",
        "}\n"
      ]
    },
    {
      "cell_type": "code",
      "execution_count": 171,
      "metadata": {
        "id": "wJ1k7V_apuk4"
      },
      "outputs": [
        {
          "name": "stdout",
          "output_type": "stream",
          "text": [
            "Fitting 5 folds for each of 10 candidates, totalling 50 fits\n"
          ]
        },
        {
          "data": {
            "text/html": [
              "<style>#sk-container-id-3 {\n",
              "  /* Definition of color scheme common for light and dark mode */\n",
              "  --sklearn-color-text: #000;\n",
              "  --sklearn-color-text-muted: #666;\n",
              "  --sklearn-color-line: gray;\n",
              "  /* Definition of color scheme for unfitted estimators */\n",
              "  --sklearn-color-unfitted-level-0: #fff5e6;\n",
              "  --sklearn-color-unfitted-level-1: #f6e4d2;\n",
              "  --sklearn-color-unfitted-level-2: #ffe0b3;\n",
              "  --sklearn-color-unfitted-level-3: chocolate;\n",
              "  /* Definition of color scheme for fitted estimators */\n",
              "  --sklearn-color-fitted-level-0: #f0f8ff;\n",
              "  --sklearn-color-fitted-level-1: #d4ebff;\n",
              "  --sklearn-color-fitted-level-2: #b3dbfd;\n",
              "  --sklearn-color-fitted-level-3: cornflowerblue;\n",
              "\n",
              "  /* Specific color for light theme */\n",
              "  --sklearn-color-text-on-default-background: var(--sg-text-color, var(--theme-code-foreground, var(--jp-content-font-color1, black)));\n",
              "  --sklearn-color-background: var(--sg-background-color, var(--theme-background, var(--jp-layout-color0, white)));\n",
              "  --sklearn-color-border-box: var(--sg-text-color, var(--theme-code-foreground, var(--jp-content-font-color1, black)));\n",
              "  --sklearn-color-icon: #696969;\n",
              "\n",
              "  @media (prefers-color-scheme: dark) {\n",
              "    /* Redefinition of color scheme for dark theme */\n",
              "    --sklearn-color-text-on-default-background: var(--sg-text-color, var(--theme-code-foreground, var(--jp-content-font-color1, white)));\n",
              "    --sklearn-color-background: var(--sg-background-color, var(--theme-background, var(--jp-layout-color0, #111)));\n",
              "    --sklearn-color-border-box: var(--sg-text-color, var(--theme-code-foreground, var(--jp-content-font-color1, white)));\n",
              "    --sklearn-color-icon: #878787;\n",
              "  }\n",
              "}\n",
              "\n",
              "#sk-container-id-3 {\n",
              "  color: var(--sklearn-color-text);\n",
              "}\n",
              "\n",
              "#sk-container-id-3 pre {\n",
              "  padding: 0;\n",
              "}\n",
              "\n",
              "#sk-container-id-3 input.sk-hidden--visually {\n",
              "  border: 0;\n",
              "  clip: rect(1px 1px 1px 1px);\n",
              "  clip: rect(1px, 1px, 1px, 1px);\n",
              "  height: 1px;\n",
              "  margin: -1px;\n",
              "  overflow: hidden;\n",
              "  padding: 0;\n",
              "  position: absolute;\n",
              "  width: 1px;\n",
              "}\n",
              "\n",
              "#sk-container-id-3 div.sk-dashed-wrapped {\n",
              "  border: 1px dashed var(--sklearn-color-line);\n",
              "  margin: 0 0.4em 0.5em 0.4em;\n",
              "  box-sizing: border-box;\n",
              "  padding-bottom: 0.4em;\n",
              "  background-color: var(--sklearn-color-background);\n",
              "}\n",
              "\n",
              "#sk-container-id-3 div.sk-container {\n",
              "  /* jupyter's `normalize.less` sets `[hidden] { display: none; }`\n",
              "     but bootstrap.min.css set `[hidden] { display: none !important; }`\n",
              "     so we also need the `!important` here to be able to override the\n",
              "     default hidden behavior on the sphinx rendered scikit-learn.org.\n",
              "     See: https://github.com/scikit-learn/scikit-learn/issues/21755 */\n",
              "  display: inline-block !important;\n",
              "  position: relative;\n",
              "}\n",
              "\n",
              "#sk-container-id-3 div.sk-text-repr-fallback {\n",
              "  display: none;\n",
              "}\n",
              "\n",
              "div.sk-parallel-item,\n",
              "div.sk-serial,\n",
              "div.sk-item {\n",
              "  /* draw centered vertical line to link estimators */\n",
              "  background-image: linear-gradient(var(--sklearn-color-text-on-default-background), var(--sklearn-color-text-on-default-background));\n",
              "  background-size: 2px 100%;\n",
              "  background-repeat: no-repeat;\n",
              "  background-position: center center;\n",
              "}\n",
              "\n",
              "/* Parallel-specific style estimator block */\n",
              "\n",
              "#sk-container-id-3 div.sk-parallel-item::after {\n",
              "  content: \"\";\n",
              "  width: 100%;\n",
              "  border-bottom: 2px solid var(--sklearn-color-text-on-default-background);\n",
              "  flex-grow: 1;\n",
              "}\n",
              "\n",
              "#sk-container-id-3 div.sk-parallel {\n",
              "  display: flex;\n",
              "  align-items: stretch;\n",
              "  justify-content: center;\n",
              "  background-color: var(--sklearn-color-background);\n",
              "  position: relative;\n",
              "}\n",
              "\n",
              "#sk-container-id-3 div.sk-parallel-item {\n",
              "  display: flex;\n",
              "  flex-direction: column;\n",
              "}\n",
              "\n",
              "#sk-container-id-3 div.sk-parallel-item:first-child::after {\n",
              "  align-self: flex-end;\n",
              "  width: 50%;\n",
              "}\n",
              "\n",
              "#sk-container-id-3 div.sk-parallel-item:last-child::after {\n",
              "  align-self: flex-start;\n",
              "  width: 50%;\n",
              "}\n",
              "\n",
              "#sk-container-id-3 div.sk-parallel-item:only-child::after {\n",
              "  width: 0;\n",
              "}\n",
              "\n",
              "/* Serial-specific style estimator block */\n",
              "\n",
              "#sk-container-id-3 div.sk-serial {\n",
              "  display: flex;\n",
              "  flex-direction: column;\n",
              "  align-items: center;\n",
              "  background-color: var(--sklearn-color-background);\n",
              "  padding-right: 1em;\n",
              "  padding-left: 1em;\n",
              "}\n",
              "\n",
              "\n",
              "/* Toggleable style: style used for estimator/Pipeline/ColumnTransformer box that is\n",
              "clickable and can be expanded/collapsed.\n",
              "- Pipeline and ColumnTransformer use this feature and define the default style\n",
              "- Estimators will overwrite some part of the style using the `sk-estimator` class\n",
              "*/\n",
              "\n",
              "/* Pipeline and ColumnTransformer style (default) */\n",
              "\n",
              "#sk-container-id-3 div.sk-toggleable {\n",
              "  /* Default theme specific background. It is overwritten whether we have a\n",
              "  specific estimator or a Pipeline/ColumnTransformer */\n",
              "  background-color: var(--sklearn-color-background);\n",
              "}\n",
              "\n",
              "/* Toggleable label */\n",
              "#sk-container-id-3 label.sk-toggleable__label {\n",
              "  cursor: pointer;\n",
              "  display: flex;\n",
              "  width: 100%;\n",
              "  margin-bottom: 0;\n",
              "  padding: 0.5em;\n",
              "  box-sizing: border-box;\n",
              "  text-align: center;\n",
              "  align-items: start;\n",
              "  justify-content: space-between;\n",
              "  gap: 0.5em;\n",
              "}\n",
              "\n",
              "#sk-container-id-3 label.sk-toggleable__label .caption {\n",
              "  font-size: 0.6rem;\n",
              "  font-weight: lighter;\n",
              "  color: var(--sklearn-color-text-muted);\n",
              "}\n",
              "\n",
              "#sk-container-id-3 label.sk-toggleable__label-arrow:before {\n",
              "  /* Arrow on the left of the label */\n",
              "  content: \"▸\";\n",
              "  float: left;\n",
              "  margin-right: 0.25em;\n",
              "  color: var(--sklearn-color-icon);\n",
              "}\n",
              "\n",
              "#sk-container-id-3 label.sk-toggleable__label-arrow:hover:before {\n",
              "  color: var(--sklearn-color-text);\n",
              "}\n",
              "\n",
              "/* Toggleable content - dropdown */\n",
              "\n",
              "#sk-container-id-3 div.sk-toggleable__content {\n",
              "  max-height: 0;\n",
              "  max-width: 0;\n",
              "  overflow: hidden;\n",
              "  text-align: left;\n",
              "  /* unfitted */\n",
              "  background-color: var(--sklearn-color-unfitted-level-0);\n",
              "}\n",
              "\n",
              "#sk-container-id-3 div.sk-toggleable__content.fitted {\n",
              "  /* fitted */\n",
              "  background-color: var(--sklearn-color-fitted-level-0);\n",
              "}\n",
              "\n",
              "#sk-container-id-3 div.sk-toggleable__content pre {\n",
              "  margin: 0.2em;\n",
              "  border-radius: 0.25em;\n",
              "  color: var(--sklearn-color-text);\n",
              "  /* unfitted */\n",
              "  background-color: var(--sklearn-color-unfitted-level-0);\n",
              "}\n",
              "\n",
              "#sk-container-id-3 div.sk-toggleable__content.fitted pre {\n",
              "  /* unfitted */\n",
              "  background-color: var(--sklearn-color-fitted-level-0);\n",
              "}\n",
              "\n",
              "#sk-container-id-3 input.sk-toggleable__control:checked~div.sk-toggleable__content {\n",
              "  /* Expand drop-down */\n",
              "  max-height: 200px;\n",
              "  max-width: 100%;\n",
              "  overflow: auto;\n",
              "}\n",
              "\n",
              "#sk-container-id-3 input.sk-toggleable__control:checked~label.sk-toggleable__label-arrow:before {\n",
              "  content: \"▾\";\n",
              "}\n",
              "\n",
              "/* Pipeline/ColumnTransformer-specific style */\n",
              "\n",
              "#sk-container-id-3 div.sk-label input.sk-toggleable__control:checked~label.sk-toggleable__label {\n",
              "  color: var(--sklearn-color-text);\n",
              "  background-color: var(--sklearn-color-unfitted-level-2);\n",
              "}\n",
              "\n",
              "#sk-container-id-3 div.sk-label.fitted input.sk-toggleable__control:checked~label.sk-toggleable__label {\n",
              "  background-color: var(--sklearn-color-fitted-level-2);\n",
              "}\n",
              "\n",
              "/* Estimator-specific style */\n",
              "\n",
              "/* Colorize estimator box */\n",
              "#sk-container-id-3 div.sk-estimator input.sk-toggleable__control:checked~label.sk-toggleable__label {\n",
              "  /* unfitted */\n",
              "  background-color: var(--sklearn-color-unfitted-level-2);\n",
              "}\n",
              "\n",
              "#sk-container-id-3 div.sk-estimator.fitted input.sk-toggleable__control:checked~label.sk-toggleable__label {\n",
              "  /* fitted */\n",
              "  background-color: var(--sklearn-color-fitted-level-2);\n",
              "}\n",
              "\n",
              "#sk-container-id-3 div.sk-label label.sk-toggleable__label,\n",
              "#sk-container-id-3 div.sk-label label {\n",
              "  /* The background is the default theme color */\n",
              "  color: var(--sklearn-color-text-on-default-background);\n",
              "}\n",
              "\n",
              "/* On hover, darken the color of the background */\n",
              "#sk-container-id-3 div.sk-label:hover label.sk-toggleable__label {\n",
              "  color: var(--sklearn-color-text);\n",
              "  background-color: var(--sklearn-color-unfitted-level-2);\n",
              "}\n",
              "\n",
              "/* Label box, darken color on hover, fitted */\n",
              "#sk-container-id-3 div.sk-label.fitted:hover label.sk-toggleable__label.fitted {\n",
              "  color: var(--sklearn-color-text);\n",
              "  background-color: var(--sklearn-color-fitted-level-2);\n",
              "}\n",
              "\n",
              "/* Estimator label */\n",
              "\n",
              "#sk-container-id-3 div.sk-label label {\n",
              "  font-family: monospace;\n",
              "  font-weight: bold;\n",
              "  display: inline-block;\n",
              "  line-height: 1.2em;\n",
              "}\n",
              "\n",
              "#sk-container-id-3 div.sk-label-container {\n",
              "  text-align: center;\n",
              "}\n",
              "\n",
              "/* Estimator-specific */\n",
              "#sk-container-id-3 div.sk-estimator {\n",
              "  font-family: monospace;\n",
              "  border: 1px dotted var(--sklearn-color-border-box);\n",
              "  border-radius: 0.25em;\n",
              "  box-sizing: border-box;\n",
              "  margin-bottom: 0.5em;\n",
              "  /* unfitted */\n",
              "  background-color: var(--sklearn-color-unfitted-level-0);\n",
              "}\n",
              "\n",
              "#sk-container-id-3 div.sk-estimator.fitted {\n",
              "  /* fitted */\n",
              "  background-color: var(--sklearn-color-fitted-level-0);\n",
              "}\n",
              "\n",
              "/* on hover */\n",
              "#sk-container-id-3 div.sk-estimator:hover {\n",
              "  /* unfitted */\n",
              "  background-color: var(--sklearn-color-unfitted-level-2);\n",
              "}\n",
              "\n",
              "#sk-container-id-3 div.sk-estimator.fitted:hover {\n",
              "  /* fitted */\n",
              "  background-color: var(--sklearn-color-fitted-level-2);\n",
              "}\n",
              "\n",
              "/* Specification for estimator info (e.g. \"i\" and \"?\") */\n",
              "\n",
              "/* Common style for \"i\" and \"?\" */\n",
              "\n",
              ".sk-estimator-doc-link,\n",
              "a:link.sk-estimator-doc-link,\n",
              "a:visited.sk-estimator-doc-link {\n",
              "  float: right;\n",
              "  font-size: smaller;\n",
              "  line-height: 1em;\n",
              "  font-family: monospace;\n",
              "  background-color: var(--sklearn-color-background);\n",
              "  border-radius: 1em;\n",
              "  height: 1em;\n",
              "  width: 1em;\n",
              "  text-decoration: none !important;\n",
              "  margin-left: 0.5em;\n",
              "  text-align: center;\n",
              "  /* unfitted */\n",
              "  border: var(--sklearn-color-unfitted-level-1) 1pt solid;\n",
              "  color: var(--sklearn-color-unfitted-level-1);\n",
              "}\n",
              "\n",
              ".sk-estimator-doc-link.fitted,\n",
              "a:link.sk-estimator-doc-link.fitted,\n",
              "a:visited.sk-estimator-doc-link.fitted {\n",
              "  /* fitted */\n",
              "  border: var(--sklearn-color-fitted-level-1) 1pt solid;\n",
              "  color: var(--sklearn-color-fitted-level-1);\n",
              "}\n",
              "\n",
              "/* On hover */\n",
              "div.sk-estimator:hover .sk-estimator-doc-link:hover,\n",
              ".sk-estimator-doc-link:hover,\n",
              "div.sk-label-container:hover .sk-estimator-doc-link:hover,\n",
              ".sk-estimator-doc-link:hover {\n",
              "  /* unfitted */\n",
              "  background-color: var(--sklearn-color-unfitted-level-3);\n",
              "  color: var(--sklearn-color-background);\n",
              "  text-decoration: none;\n",
              "}\n",
              "\n",
              "div.sk-estimator.fitted:hover .sk-estimator-doc-link.fitted:hover,\n",
              ".sk-estimator-doc-link.fitted:hover,\n",
              "div.sk-label-container:hover .sk-estimator-doc-link.fitted:hover,\n",
              ".sk-estimator-doc-link.fitted:hover {\n",
              "  /* fitted */\n",
              "  background-color: var(--sklearn-color-fitted-level-3);\n",
              "  color: var(--sklearn-color-background);\n",
              "  text-decoration: none;\n",
              "}\n",
              "\n",
              "/* Span, style for the box shown on hovering the info icon */\n",
              ".sk-estimator-doc-link span {\n",
              "  display: none;\n",
              "  z-index: 9999;\n",
              "  position: relative;\n",
              "  font-weight: normal;\n",
              "  right: .2ex;\n",
              "  padding: .5ex;\n",
              "  margin: .5ex;\n",
              "  width: min-content;\n",
              "  min-width: 20ex;\n",
              "  max-width: 50ex;\n",
              "  color: var(--sklearn-color-text);\n",
              "  box-shadow: 2pt 2pt 4pt #999;\n",
              "  /* unfitted */\n",
              "  background: var(--sklearn-color-unfitted-level-0);\n",
              "  border: .5pt solid var(--sklearn-color-unfitted-level-3);\n",
              "}\n",
              "\n",
              ".sk-estimator-doc-link.fitted span {\n",
              "  /* fitted */\n",
              "  background: var(--sklearn-color-fitted-level-0);\n",
              "  border: var(--sklearn-color-fitted-level-3);\n",
              "}\n",
              "\n",
              ".sk-estimator-doc-link:hover span {\n",
              "  display: block;\n",
              "}\n",
              "\n",
              "/* \"?\"-specific style due to the `<a>` HTML tag */\n",
              "\n",
              "#sk-container-id-3 a.estimator_doc_link {\n",
              "  float: right;\n",
              "  font-size: 1rem;\n",
              "  line-height: 1em;\n",
              "  font-family: monospace;\n",
              "  background-color: var(--sklearn-color-background);\n",
              "  border-radius: 1rem;\n",
              "  height: 1rem;\n",
              "  width: 1rem;\n",
              "  text-decoration: none;\n",
              "  /* unfitted */\n",
              "  color: var(--sklearn-color-unfitted-level-1);\n",
              "  border: var(--sklearn-color-unfitted-level-1) 1pt solid;\n",
              "}\n",
              "\n",
              "#sk-container-id-3 a.estimator_doc_link.fitted {\n",
              "  /* fitted */\n",
              "  border: var(--sklearn-color-fitted-level-1) 1pt solid;\n",
              "  color: var(--sklearn-color-fitted-level-1);\n",
              "}\n",
              "\n",
              "/* On hover */\n",
              "#sk-container-id-3 a.estimator_doc_link:hover {\n",
              "  /* unfitted */\n",
              "  background-color: var(--sklearn-color-unfitted-level-3);\n",
              "  color: var(--sklearn-color-background);\n",
              "  text-decoration: none;\n",
              "}\n",
              "\n",
              "#sk-container-id-3 a.estimator_doc_link.fitted:hover {\n",
              "  /* fitted */\n",
              "  background-color: var(--sklearn-color-fitted-level-3);\n",
              "}\n",
              "</style><div id=\"sk-container-id-3\" class=\"sk-top-container\"><div class=\"sk-text-repr-fallback\"><pre>RandomizedSearchCV(cv=KFold(n_splits=5, random_state=42, shuffle=True),\n",
              "                   estimator=MLPClassifier(random_state=42), n_jobs=-1,\n",
              "                   param_distributions={&#x27;activation&#x27;: [&#x27;relu&#x27;, &#x27;tanh&#x27;,\n",
              "                                                       &#x27;logistic&#x27;],\n",
              "                                        &#x27;alpha&#x27;: array([1.00000000e-05, 3.16227766e-04, 1.00000000e-02]),\n",
              "                                        &#x27;batch_size&#x27;: [32, 64],\n",
              "                                        &#x27;early_stopping&#x27;: [True, False],\n",
              "                                        &#x27;hidden_layer_sizes&#x27;: [(73,), (54, 30)],\n",
              "                                        &#x27;learning_rate_init&#x27;: array([0.0001    , 0.00316228, 0.1       ]),\n",
              "                                        &#x27;max_iter&#x27;: [200, 400],\n",
              "                                        &#x27;solver&#x27;: [&#x27;adam&#x27;, &#x27;sgd&#x27;]},\n",
              "                   random_state=42, scoring=&#x27;f1_weighted&#x27;, verbose=1)</pre><b>In a Jupyter environment, please rerun this cell to show the HTML representation or trust the notebook. <br />On GitHub, the HTML representation is unable to render, please try loading this page with nbviewer.org.</b></div><div class=\"sk-container\" hidden><div class=\"sk-item sk-dashed-wrapped\"><div class=\"sk-label-container\"><div class=\"sk-label fitted sk-toggleable\"><input class=\"sk-toggleable__control sk-hidden--visually\" id=\"sk-estimator-id-7\" type=\"checkbox\" ><label for=\"sk-estimator-id-7\" class=\"sk-toggleable__label fitted sk-toggleable__label-arrow\"><div><div>RandomizedSearchCV</div></div><div><a class=\"sk-estimator-doc-link fitted\" rel=\"noreferrer\" target=\"_blank\" href=\"https://scikit-learn.org/1.6/modules/generated/sklearn.model_selection.RandomizedSearchCV.html\">?<span>Documentation for RandomizedSearchCV</span></a><span class=\"sk-estimator-doc-link fitted\">i<span>Fitted</span></span></div></label><div class=\"sk-toggleable__content fitted\"><pre>RandomizedSearchCV(cv=KFold(n_splits=5, random_state=42, shuffle=True),\n",
              "                   estimator=MLPClassifier(random_state=42), n_jobs=-1,\n",
              "                   param_distributions={&#x27;activation&#x27;: [&#x27;relu&#x27;, &#x27;tanh&#x27;,\n",
              "                                                       &#x27;logistic&#x27;],\n",
              "                                        &#x27;alpha&#x27;: array([1.00000000e-05, 3.16227766e-04, 1.00000000e-02]),\n",
              "                                        &#x27;batch_size&#x27;: [32, 64],\n",
              "                                        &#x27;early_stopping&#x27;: [True, False],\n",
              "                                        &#x27;hidden_layer_sizes&#x27;: [(73,), (54, 30)],\n",
              "                                        &#x27;learning_rate_init&#x27;: array([0.0001    , 0.00316228, 0.1       ]),\n",
              "                                        &#x27;max_iter&#x27;: [200, 400],\n",
              "                                        &#x27;solver&#x27;: [&#x27;adam&#x27;, &#x27;sgd&#x27;]},\n",
              "                   random_state=42, scoring=&#x27;f1_weighted&#x27;, verbose=1)</pre></div> </div></div><div class=\"sk-parallel\"><div class=\"sk-parallel-item\"><div class=\"sk-item\"><div class=\"sk-label-container\"><div class=\"sk-label fitted sk-toggleable\"><input class=\"sk-toggleable__control sk-hidden--visually\" id=\"sk-estimator-id-8\" type=\"checkbox\" ><label for=\"sk-estimator-id-8\" class=\"sk-toggleable__label fitted sk-toggleable__label-arrow\"><div><div>best_estimator_: MLPClassifier</div></div></label><div class=\"sk-toggleable__content fitted\"><pre>MLPClassifier(activation=&#x27;logistic&#x27;, alpha=np.float64(0.00031622776601683794),\n",
              "              batch_size=64, early_stopping=True, hidden_layer_sizes=(73,),\n",
              "              learning_rate_init=np.float64(0.0001), random_state=42)</pre></div> </div></div><div class=\"sk-serial\"><div class=\"sk-item\"><div class=\"sk-estimator fitted sk-toggleable\"><input class=\"sk-toggleable__control sk-hidden--visually\" id=\"sk-estimator-id-9\" type=\"checkbox\" ><label for=\"sk-estimator-id-9\" class=\"sk-toggleable__label fitted sk-toggleable__label-arrow\"><div><div>MLPClassifier</div></div><div><a class=\"sk-estimator-doc-link fitted\" rel=\"noreferrer\" target=\"_blank\" href=\"https://scikit-learn.org/1.6/modules/generated/sklearn.neural_network.MLPClassifier.html\">?<span>Documentation for MLPClassifier</span></a></div></label><div class=\"sk-toggleable__content fitted\"><pre>MLPClassifier(activation=&#x27;logistic&#x27;, alpha=np.float64(0.00031622776601683794),\n",
              "              batch_size=64, early_stopping=True, hidden_layer_sizes=(73,),\n",
              "              learning_rate_init=np.float64(0.0001), random_state=42)</pre></div> </div></div></div></div></div></div></div></div></div>"
            ],
            "text/plain": [
              "RandomizedSearchCV(cv=KFold(n_splits=5, random_state=42, shuffle=True),\n",
              "                   estimator=MLPClassifier(random_state=42), n_jobs=-1,\n",
              "                   param_distributions={'activation': ['relu', 'tanh',\n",
              "                                                       'logistic'],\n",
              "                                        'alpha': array([1.00000000e-05, 3.16227766e-04, 1.00000000e-02]),\n",
              "                                        'batch_size': [32, 64],\n",
              "                                        'early_stopping': [True, False],\n",
              "                                        'hidden_layer_sizes': [(73,), (54, 30)],\n",
              "                                        'learning_rate_init': array([0.0001    , 0.00316228, 0.1       ]),\n",
              "                                        'max_iter': [200, 400],\n",
              "                                        'solver': ['adam', 'sgd']},\n",
              "                   random_state=42, scoring='f1_weighted', verbose=1)"
            ]
          },
          "execution_count": 171,
          "metadata": {},
          "output_type": "execute_result"
        }
      ],
      "source": [
        "random_search_mlp_clf = RandomizedSearchCV(estimator=MLPClassifier(random_state=42),\n",
        "                                           param_distributions=param_distributions_mlp_clf,\n",
        "                                           n_iter=10,\n",
        "                                           scoring='f1_weighted',\n",
        "                                           cv=cv,\n",
        "                                           n_jobs=-1,\n",
        "                                           verbose=1,\n",
        "                                           random_state=42)\n",
        "random_search_mlp_clf.fit(X_train_scaled, y_train_clf)"
      ]
    },
    {
      "cell_type": "code",
      "execution_count": 172,
      "metadata": {
        "id": "clsYjTn2V02G"
      },
      "outputs": [
        {
          "name": "stdout",
          "output_type": "stream",
          "text": [
            "RandomizedSearchCV Best Accuracy: 0.6466, F1-score: 0.6132\n"
          ]
        }
      ],
      "source": [
        "y_pred_clf_random = random_search_mlp_clf.predict(X_test_scaled)\n",
        "\n",
        "accuracy_clf_random = accuracy_score(y_test_clf, y_pred_clf_random)\n",
        "f1_clf_random = f1_score(y_test_clf, y_pred_clf_random, average='weighted')\n",
        "\n",
        "print(f\"RandomizedSearchCV Best Accuracy: {accuracy_clf_random:.4f}, F1-score: {f1_clf_random:.4f}\")"
      ]
    },
    {
      "cell_type": "code",
      "execution_count": 173,
      "metadata": {
        "id": "fpAOWHI6V4nF"
      },
      "outputs": [],
      "source": [
        "# --- Hyperparameter tuning for MLPRegressor ---\n",
        "param_grid_mlp_reg = {\n",
        "    'hidden_layer_sizes': [(32,), (64,), (32, 16), (64, 32)],\n",
        "    'activation': ['relu', 'tanh'],\n",
        "    'solver': ['adam', 'lbfgs'],\n",
        "    'alpha': [0.0001, 0.001],\n",
        "    'learning_rate_init': [0.001, 0.01],\n",
        "    'max_iter': [200, 300]\n",
        "}\n",
        "\n",
        "param_distributions_mlp_reg = {\n",
        "    'hidden_layer_sizes': [(np.random.randint(20, 80),), (np.random.randint(20, 80), np.random.randint(20, 80))],\n",
        "    'activation': ['relu', 'tanh'],\n",
        "    'solver': ['adam', 'lbfgs'],\n",
        "    'alpha': np.logspace(-5, -2, 3),\n",
        "    'learning_rate_init': np.logspace(-4, -1, 3),\n",
        "    'max_iter': [200, 400]\n",
        "}"
      ]
    },
    {
      "cell_type": "code",
      "execution_count": 175,
      "metadata": {
        "id": "7eTdzrNZjFPx"
      },
      "outputs": [
        {
          "name": "stdout",
          "output_type": "stream",
          "text": [
            "Fitting 5 folds for each of 10 candidates, totalling 50 fits\n"
          ]
        },
        {
          "name": "stderr",
          "output_type": "stream",
          "text": [
            "c:\\Users\\deepa\\OneDrive\\Programming\\Projects\\GitHub\\Self_Updating-_Weather_forecast_System\\.venv\\Lib\\site-packages\\sklearn\\model_selection\\_validation.py:528: FitFailedWarning: \n",
            "1 fits failed out of a total of 50.\n",
            "The score on these train-test partitions for these parameters will be set to nan.\n",
            "If these failures are not expected, you can try to debug them by setting error_score='raise'.\n",
            "\n",
            "Below are more details about the failures:\n",
            "--------------------------------------------------------------------------------\n",
            "1 fits failed with the following error:\n",
            "Traceback (most recent call last):\n",
            "  File \"c:\\Users\\deepa\\OneDrive\\Programming\\Projects\\GitHub\\Self_Updating-_Weather_forecast_System\\.venv\\Lib\\site-packages\\sklearn\\model_selection\\_validation.py\", line 866, in _fit_and_score\n",
            "    estimator.fit(X_train, y_train, **fit_params)\n",
            "  File \"c:\\Users\\deepa\\OneDrive\\Programming\\Projects\\GitHub\\Self_Updating-_Weather_forecast_System\\.venv\\Lib\\site-packages\\sklearn\\base.py\", line 1389, in wrapper\n",
            "    return fit_method(estimator, *args, **kwargs)\n",
            "           ^^^^^^^^^^^^^^^^^^^^^^^^^^^^^^^^^^^^^^\n",
            "  File \"c:\\Users\\deepa\\OneDrive\\Programming\\Projects\\GitHub\\Self_Updating-_Weather_forecast_System\\.venv\\Lib\\site-packages\\sklearn\\neural_network\\_multilayer_perceptron.py\", line 754, in fit\n",
            "    return self._fit(X, y, incremental=False)\n",
            "           ^^^^^^^^^^^^^^^^^^^^^^^^^^^^^^^^^^\n",
            "  File \"c:\\Users\\deepa\\OneDrive\\Programming\\Projects\\GitHub\\Self_Updating-_Weather_forecast_System\\.venv\\Lib\\site-packages\\sklearn\\neural_network\\_multilayer_perceptron.py\", line 489, in _fit\n",
            "    self._fit_lbfgs(\n",
            "  File \"c:\\Users\\deepa\\OneDrive\\Programming\\Projects\\GitHub\\Self_Updating-_Weather_forecast_System\\.venv\\Lib\\site-packages\\sklearn\\neural_network\\_multilayer_perceptron.py\", line 533, in _fit_lbfgs\n",
            "    opt_res = scipy.optimize.minimize(\n",
            "              ^^^^^^^^^^^^^^^^^^^^^^^^\n",
            "  File \"c:\\Users\\deepa\\OneDrive\\Programming\\Projects\\GitHub\\Self_Updating-_Weather_forecast_System\\.venv\\Lib\\site-packages\\scipy\\optimize\\_minimize.py\", line 738, in minimize\n",
            "    res = _minimize_lbfgsb(fun, x0, args, jac, bounds,\n",
            "          ^^^^^^^^^^^^^^^^^^^^^^^^^^^^^^^^^^^^^^^^^^^^\n",
            "  File \"c:\\Users\\deepa\\OneDrive\\Programming\\Projects\\GitHub\\Self_Updating-_Weather_forecast_System\\.venv\\Lib\\site-packages\\scipy\\optimize\\_lbfgsb_py.py\", line 441, in _minimize_lbfgsb\n",
            "    f, g = func_and_grad(x)\n",
            "           ^^^^^^^^^^^^^^^^\n",
            "  File \"c:\\Users\\deepa\\OneDrive\\Programming\\Projects\\GitHub\\Self_Updating-_Weather_forecast_System\\.venv\\Lib\\site-packages\\scipy\\optimize\\_differentiable_functions.py\", line 344, in fun_and_grad\n",
            "    self._update_fun()\n",
            "  File \"c:\\Users\\deepa\\OneDrive\\Programming\\Projects\\GitHub\\Self_Updating-_Weather_forecast_System\\.venv\\Lib\\site-packages\\scipy\\optimize\\_differentiable_functions.py\", line 295, in _update_fun\n",
            "    fx = self._wrapped_fun(self.x)\n",
            "         ^^^^^^^^^^^^^^^^^^^^^^^^^\n",
            "  File \"c:\\Users\\deepa\\OneDrive\\Programming\\Projects\\GitHub\\Self_Updating-_Weather_forecast_System\\.venv\\Lib\\site-packages\\scipy\\optimize\\_differentiable_functions.py\", line 21, in wrapped\n",
            "    fx = fun(np.copy(x), *args)\n",
            "         ^^^^^^^^^^^^^^^^^^^^^^\n",
            "  File \"c:\\Users\\deepa\\OneDrive\\Programming\\Projects\\GitHub\\Self_Updating-_Weather_forecast_System\\.venv\\Lib\\site-packages\\scipy\\optimize\\_optimize.py\", line 80, in __call__\n",
            "    self._compute_if_needed(x, *args)\n",
            "  File \"c:\\Users\\deepa\\OneDrive\\Programming\\Projects\\GitHub\\Self_Updating-_Weather_forecast_System\\.venv\\Lib\\site-packages\\scipy\\optimize\\_optimize.py\", line 74, in _compute_if_needed\n",
            "    fg = self.fun(x, *args)\n",
            "         ^^^^^^^^^^^^^^^^^^\n",
            "  File \"c:\\Users\\deepa\\OneDrive\\Programming\\Projects\\GitHub\\Self_Updating-_Weather_forecast_System\\.venv\\Lib\\site-packages\\sklearn\\neural_network\\_multilayer_perceptron.py\", line 279, in _loss_grad_lbfgs\n",
            "    loss, coef_grads, intercept_grads = self._backprop(\n",
            "                                        ^^^^^^^^^^^^^^^\n",
            "  File \"c:\\Users\\deepa\\OneDrive\\Programming\\Projects\\GitHub\\Self_Updating-_Weather_forecast_System\\.venv\\Lib\\site-packages\\sklearn\\neural_network\\_multilayer_perceptron.py\", line 324, in _backprop\n",
            "    activations = self._forward_pass(activations)\n",
            "                  ^^^^^^^^^^^^^^^^^^^^^^^^^^^^^^^\n",
            "  File \"c:\\Users\\deepa\\OneDrive\\Programming\\Projects\\GitHub\\Self_Updating-_Weather_forecast_System\\.venv\\Lib\\site-packages\\sklearn\\neural_network\\_multilayer_perceptron.py\", line 171, in _forward_pass\n",
            "    activations[i + 1] = safe_sparse_dot(activations[i], self.coefs_[i])\n",
            "                         ^^^^^^^^^^^^^^^^^^^^^^^^^^^^^^^^^^^^^^^^^^^^^^^\n",
            "  File \"c:\\Users\\deepa\\OneDrive\\Programming\\Projects\\GitHub\\Self_Updating-_Weather_forecast_System\\.venv\\Lib\\site-packages\\sklearn\\utils\\extmath.py\", line 203, in safe_sparse_dot\n",
            "    ret = a @ b\n",
            "          ~~^~~\n",
            "numpy._core._exceptions._ArrayMemoryError: Unable to allocate 177. MiB for an array with shape (493574, 47) and data type float64\n",
            "\n",
            "  warnings.warn(some_fits_failed_message, FitFailedWarning)\n",
            "c:\\Users\\deepa\\OneDrive\\Programming\\Projects\\GitHub\\Self_Updating-_Weather_forecast_System\\.venv\\Lib\\site-packages\\sklearn\\model_selection\\_search.py:1108: UserWarning: One or more of the test scores are non-finite: [-0.28514547         nan -0.33140531 -0.29055243 -0.36156461 -0.28418788\n",
            " -0.28202965 -0.29617039 -0.28096133 -0.27893422]\n",
            "  warnings.warn(\n"
          ]
        },
        {
          "data": {
            "text/html": [
              "<style>#sk-container-id-4 {\n",
              "  /* Definition of color scheme common for light and dark mode */\n",
              "  --sklearn-color-text: #000;\n",
              "  --sklearn-color-text-muted: #666;\n",
              "  --sklearn-color-line: gray;\n",
              "  /* Definition of color scheme for unfitted estimators */\n",
              "  --sklearn-color-unfitted-level-0: #fff5e6;\n",
              "  --sklearn-color-unfitted-level-1: #f6e4d2;\n",
              "  --sklearn-color-unfitted-level-2: #ffe0b3;\n",
              "  --sklearn-color-unfitted-level-3: chocolate;\n",
              "  /* Definition of color scheme for fitted estimators */\n",
              "  --sklearn-color-fitted-level-0: #f0f8ff;\n",
              "  --sklearn-color-fitted-level-1: #d4ebff;\n",
              "  --sklearn-color-fitted-level-2: #b3dbfd;\n",
              "  --sklearn-color-fitted-level-3: cornflowerblue;\n",
              "\n",
              "  /* Specific color for light theme */\n",
              "  --sklearn-color-text-on-default-background: var(--sg-text-color, var(--theme-code-foreground, var(--jp-content-font-color1, black)));\n",
              "  --sklearn-color-background: var(--sg-background-color, var(--theme-background, var(--jp-layout-color0, white)));\n",
              "  --sklearn-color-border-box: var(--sg-text-color, var(--theme-code-foreground, var(--jp-content-font-color1, black)));\n",
              "  --sklearn-color-icon: #696969;\n",
              "\n",
              "  @media (prefers-color-scheme: dark) {\n",
              "    /* Redefinition of color scheme for dark theme */\n",
              "    --sklearn-color-text-on-default-background: var(--sg-text-color, var(--theme-code-foreground, var(--jp-content-font-color1, white)));\n",
              "    --sklearn-color-background: var(--sg-background-color, var(--theme-background, var(--jp-layout-color0, #111)));\n",
              "    --sklearn-color-border-box: var(--sg-text-color, var(--theme-code-foreground, var(--jp-content-font-color1, white)));\n",
              "    --sklearn-color-icon: #878787;\n",
              "  }\n",
              "}\n",
              "\n",
              "#sk-container-id-4 {\n",
              "  color: var(--sklearn-color-text);\n",
              "}\n",
              "\n",
              "#sk-container-id-4 pre {\n",
              "  padding: 0;\n",
              "}\n",
              "\n",
              "#sk-container-id-4 input.sk-hidden--visually {\n",
              "  border: 0;\n",
              "  clip: rect(1px 1px 1px 1px);\n",
              "  clip: rect(1px, 1px, 1px, 1px);\n",
              "  height: 1px;\n",
              "  margin: -1px;\n",
              "  overflow: hidden;\n",
              "  padding: 0;\n",
              "  position: absolute;\n",
              "  width: 1px;\n",
              "}\n",
              "\n",
              "#sk-container-id-4 div.sk-dashed-wrapped {\n",
              "  border: 1px dashed var(--sklearn-color-line);\n",
              "  margin: 0 0.4em 0.5em 0.4em;\n",
              "  box-sizing: border-box;\n",
              "  padding-bottom: 0.4em;\n",
              "  background-color: var(--sklearn-color-background);\n",
              "}\n",
              "\n",
              "#sk-container-id-4 div.sk-container {\n",
              "  /* jupyter's `normalize.less` sets `[hidden] { display: none; }`\n",
              "     but bootstrap.min.css set `[hidden] { display: none !important; }`\n",
              "     so we also need the `!important` here to be able to override the\n",
              "     default hidden behavior on the sphinx rendered scikit-learn.org.\n",
              "     See: https://github.com/scikit-learn/scikit-learn/issues/21755 */\n",
              "  display: inline-block !important;\n",
              "  position: relative;\n",
              "}\n",
              "\n",
              "#sk-container-id-4 div.sk-text-repr-fallback {\n",
              "  display: none;\n",
              "}\n",
              "\n",
              "div.sk-parallel-item,\n",
              "div.sk-serial,\n",
              "div.sk-item {\n",
              "  /* draw centered vertical line to link estimators */\n",
              "  background-image: linear-gradient(var(--sklearn-color-text-on-default-background), var(--sklearn-color-text-on-default-background));\n",
              "  background-size: 2px 100%;\n",
              "  background-repeat: no-repeat;\n",
              "  background-position: center center;\n",
              "}\n",
              "\n",
              "/* Parallel-specific style estimator block */\n",
              "\n",
              "#sk-container-id-4 div.sk-parallel-item::after {\n",
              "  content: \"\";\n",
              "  width: 100%;\n",
              "  border-bottom: 2px solid var(--sklearn-color-text-on-default-background);\n",
              "  flex-grow: 1;\n",
              "}\n",
              "\n",
              "#sk-container-id-4 div.sk-parallel {\n",
              "  display: flex;\n",
              "  align-items: stretch;\n",
              "  justify-content: center;\n",
              "  background-color: var(--sklearn-color-background);\n",
              "  position: relative;\n",
              "}\n",
              "\n",
              "#sk-container-id-4 div.sk-parallel-item {\n",
              "  display: flex;\n",
              "  flex-direction: column;\n",
              "}\n",
              "\n",
              "#sk-container-id-4 div.sk-parallel-item:first-child::after {\n",
              "  align-self: flex-end;\n",
              "  width: 50%;\n",
              "}\n",
              "\n",
              "#sk-container-id-4 div.sk-parallel-item:last-child::after {\n",
              "  align-self: flex-start;\n",
              "  width: 50%;\n",
              "}\n",
              "\n",
              "#sk-container-id-4 div.sk-parallel-item:only-child::after {\n",
              "  width: 0;\n",
              "}\n",
              "\n",
              "/* Serial-specific style estimator block */\n",
              "\n",
              "#sk-container-id-4 div.sk-serial {\n",
              "  display: flex;\n",
              "  flex-direction: column;\n",
              "  align-items: center;\n",
              "  background-color: var(--sklearn-color-background);\n",
              "  padding-right: 1em;\n",
              "  padding-left: 1em;\n",
              "}\n",
              "\n",
              "\n",
              "/* Toggleable style: style used for estimator/Pipeline/ColumnTransformer box that is\n",
              "clickable and can be expanded/collapsed.\n",
              "- Pipeline and ColumnTransformer use this feature and define the default style\n",
              "- Estimators will overwrite some part of the style using the `sk-estimator` class\n",
              "*/\n",
              "\n",
              "/* Pipeline and ColumnTransformer style (default) */\n",
              "\n",
              "#sk-container-id-4 div.sk-toggleable {\n",
              "  /* Default theme specific background. It is overwritten whether we have a\n",
              "  specific estimator or a Pipeline/ColumnTransformer */\n",
              "  background-color: var(--sklearn-color-background);\n",
              "}\n",
              "\n",
              "/* Toggleable label */\n",
              "#sk-container-id-4 label.sk-toggleable__label {\n",
              "  cursor: pointer;\n",
              "  display: flex;\n",
              "  width: 100%;\n",
              "  margin-bottom: 0;\n",
              "  padding: 0.5em;\n",
              "  box-sizing: border-box;\n",
              "  text-align: center;\n",
              "  align-items: start;\n",
              "  justify-content: space-between;\n",
              "  gap: 0.5em;\n",
              "}\n",
              "\n",
              "#sk-container-id-4 label.sk-toggleable__label .caption {\n",
              "  font-size: 0.6rem;\n",
              "  font-weight: lighter;\n",
              "  color: var(--sklearn-color-text-muted);\n",
              "}\n",
              "\n",
              "#sk-container-id-4 label.sk-toggleable__label-arrow:before {\n",
              "  /* Arrow on the left of the label */\n",
              "  content: \"▸\";\n",
              "  float: left;\n",
              "  margin-right: 0.25em;\n",
              "  color: var(--sklearn-color-icon);\n",
              "}\n",
              "\n",
              "#sk-container-id-4 label.sk-toggleable__label-arrow:hover:before {\n",
              "  color: var(--sklearn-color-text);\n",
              "}\n",
              "\n",
              "/* Toggleable content - dropdown */\n",
              "\n",
              "#sk-container-id-4 div.sk-toggleable__content {\n",
              "  max-height: 0;\n",
              "  max-width: 0;\n",
              "  overflow: hidden;\n",
              "  text-align: left;\n",
              "  /* unfitted */\n",
              "  background-color: var(--sklearn-color-unfitted-level-0);\n",
              "}\n",
              "\n",
              "#sk-container-id-4 div.sk-toggleable__content.fitted {\n",
              "  /* fitted */\n",
              "  background-color: var(--sklearn-color-fitted-level-0);\n",
              "}\n",
              "\n",
              "#sk-container-id-4 div.sk-toggleable__content pre {\n",
              "  margin: 0.2em;\n",
              "  border-radius: 0.25em;\n",
              "  color: var(--sklearn-color-text);\n",
              "  /* unfitted */\n",
              "  background-color: var(--sklearn-color-unfitted-level-0);\n",
              "}\n",
              "\n",
              "#sk-container-id-4 div.sk-toggleable__content.fitted pre {\n",
              "  /* unfitted */\n",
              "  background-color: var(--sklearn-color-fitted-level-0);\n",
              "}\n",
              "\n",
              "#sk-container-id-4 input.sk-toggleable__control:checked~div.sk-toggleable__content {\n",
              "  /* Expand drop-down */\n",
              "  max-height: 200px;\n",
              "  max-width: 100%;\n",
              "  overflow: auto;\n",
              "}\n",
              "\n",
              "#sk-container-id-4 input.sk-toggleable__control:checked~label.sk-toggleable__label-arrow:before {\n",
              "  content: \"▾\";\n",
              "}\n",
              "\n",
              "/* Pipeline/ColumnTransformer-specific style */\n",
              "\n",
              "#sk-container-id-4 div.sk-label input.sk-toggleable__control:checked~label.sk-toggleable__label {\n",
              "  color: var(--sklearn-color-text);\n",
              "  background-color: var(--sklearn-color-unfitted-level-2);\n",
              "}\n",
              "\n",
              "#sk-container-id-4 div.sk-label.fitted input.sk-toggleable__control:checked~label.sk-toggleable__label {\n",
              "  background-color: var(--sklearn-color-fitted-level-2);\n",
              "}\n",
              "\n",
              "/* Estimator-specific style */\n",
              "\n",
              "/* Colorize estimator box */\n",
              "#sk-container-id-4 div.sk-estimator input.sk-toggleable__control:checked~label.sk-toggleable__label {\n",
              "  /* unfitted */\n",
              "  background-color: var(--sklearn-color-unfitted-level-2);\n",
              "}\n",
              "\n",
              "#sk-container-id-4 div.sk-estimator.fitted input.sk-toggleable__control:checked~label.sk-toggleable__label {\n",
              "  /* fitted */\n",
              "  background-color: var(--sklearn-color-fitted-level-2);\n",
              "}\n",
              "\n",
              "#sk-container-id-4 div.sk-label label.sk-toggleable__label,\n",
              "#sk-container-id-4 div.sk-label label {\n",
              "  /* The background is the default theme color */\n",
              "  color: var(--sklearn-color-text-on-default-background);\n",
              "}\n",
              "\n",
              "/* On hover, darken the color of the background */\n",
              "#sk-container-id-4 div.sk-label:hover label.sk-toggleable__label {\n",
              "  color: var(--sklearn-color-text);\n",
              "  background-color: var(--sklearn-color-unfitted-level-2);\n",
              "}\n",
              "\n",
              "/* Label box, darken color on hover, fitted */\n",
              "#sk-container-id-4 div.sk-label.fitted:hover label.sk-toggleable__label.fitted {\n",
              "  color: var(--sklearn-color-text);\n",
              "  background-color: var(--sklearn-color-fitted-level-2);\n",
              "}\n",
              "\n",
              "/* Estimator label */\n",
              "\n",
              "#sk-container-id-4 div.sk-label label {\n",
              "  font-family: monospace;\n",
              "  font-weight: bold;\n",
              "  display: inline-block;\n",
              "  line-height: 1.2em;\n",
              "}\n",
              "\n",
              "#sk-container-id-4 div.sk-label-container {\n",
              "  text-align: center;\n",
              "}\n",
              "\n",
              "/* Estimator-specific */\n",
              "#sk-container-id-4 div.sk-estimator {\n",
              "  font-family: monospace;\n",
              "  border: 1px dotted var(--sklearn-color-border-box);\n",
              "  border-radius: 0.25em;\n",
              "  box-sizing: border-box;\n",
              "  margin-bottom: 0.5em;\n",
              "  /* unfitted */\n",
              "  background-color: var(--sklearn-color-unfitted-level-0);\n",
              "}\n",
              "\n",
              "#sk-container-id-4 div.sk-estimator.fitted {\n",
              "  /* fitted */\n",
              "  background-color: var(--sklearn-color-fitted-level-0);\n",
              "}\n",
              "\n",
              "/* on hover */\n",
              "#sk-container-id-4 div.sk-estimator:hover {\n",
              "  /* unfitted */\n",
              "  background-color: var(--sklearn-color-unfitted-level-2);\n",
              "}\n",
              "\n",
              "#sk-container-id-4 div.sk-estimator.fitted:hover {\n",
              "  /* fitted */\n",
              "  background-color: var(--sklearn-color-fitted-level-2);\n",
              "}\n",
              "\n",
              "/* Specification for estimator info (e.g. \"i\" and \"?\") */\n",
              "\n",
              "/* Common style for \"i\" and \"?\" */\n",
              "\n",
              ".sk-estimator-doc-link,\n",
              "a:link.sk-estimator-doc-link,\n",
              "a:visited.sk-estimator-doc-link {\n",
              "  float: right;\n",
              "  font-size: smaller;\n",
              "  line-height: 1em;\n",
              "  font-family: monospace;\n",
              "  background-color: var(--sklearn-color-background);\n",
              "  border-radius: 1em;\n",
              "  height: 1em;\n",
              "  width: 1em;\n",
              "  text-decoration: none !important;\n",
              "  margin-left: 0.5em;\n",
              "  text-align: center;\n",
              "  /* unfitted */\n",
              "  border: var(--sklearn-color-unfitted-level-1) 1pt solid;\n",
              "  color: var(--sklearn-color-unfitted-level-1);\n",
              "}\n",
              "\n",
              ".sk-estimator-doc-link.fitted,\n",
              "a:link.sk-estimator-doc-link.fitted,\n",
              "a:visited.sk-estimator-doc-link.fitted {\n",
              "  /* fitted */\n",
              "  border: var(--sklearn-color-fitted-level-1) 1pt solid;\n",
              "  color: var(--sklearn-color-fitted-level-1);\n",
              "}\n",
              "\n",
              "/* On hover */\n",
              "div.sk-estimator:hover .sk-estimator-doc-link:hover,\n",
              ".sk-estimator-doc-link:hover,\n",
              "div.sk-label-container:hover .sk-estimator-doc-link:hover,\n",
              ".sk-estimator-doc-link:hover {\n",
              "  /* unfitted */\n",
              "  background-color: var(--sklearn-color-unfitted-level-3);\n",
              "  color: var(--sklearn-color-background);\n",
              "  text-decoration: none;\n",
              "}\n",
              "\n",
              "div.sk-estimator.fitted:hover .sk-estimator-doc-link.fitted:hover,\n",
              ".sk-estimator-doc-link.fitted:hover,\n",
              "div.sk-label-container:hover .sk-estimator-doc-link.fitted:hover,\n",
              ".sk-estimator-doc-link.fitted:hover {\n",
              "  /* fitted */\n",
              "  background-color: var(--sklearn-color-fitted-level-3);\n",
              "  color: var(--sklearn-color-background);\n",
              "  text-decoration: none;\n",
              "}\n",
              "\n",
              "/* Span, style for the box shown on hovering the info icon */\n",
              ".sk-estimator-doc-link span {\n",
              "  display: none;\n",
              "  z-index: 9999;\n",
              "  position: relative;\n",
              "  font-weight: normal;\n",
              "  right: .2ex;\n",
              "  padding: .5ex;\n",
              "  margin: .5ex;\n",
              "  width: min-content;\n",
              "  min-width: 20ex;\n",
              "  max-width: 50ex;\n",
              "  color: var(--sklearn-color-text);\n",
              "  box-shadow: 2pt 2pt 4pt #999;\n",
              "  /* unfitted */\n",
              "  background: var(--sklearn-color-unfitted-level-0);\n",
              "  border: .5pt solid var(--sklearn-color-unfitted-level-3);\n",
              "}\n",
              "\n",
              ".sk-estimator-doc-link.fitted span {\n",
              "  /* fitted */\n",
              "  background: var(--sklearn-color-fitted-level-0);\n",
              "  border: var(--sklearn-color-fitted-level-3);\n",
              "}\n",
              "\n",
              ".sk-estimator-doc-link:hover span {\n",
              "  display: block;\n",
              "}\n",
              "\n",
              "/* \"?\"-specific style due to the `<a>` HTML tag */\n",
              "\n",
              "#sk-container-id-4 a.estimator_doc_link {\n",
              "  float: right;\n",
              "  font-size: 1rem;\n",
              "  line-height: 1em;\n",
              "  font-family: monospace;\n",
              "  background-color: var(--sklearn-color-background);\n",
              "  border-radius: 1rem;\n",
              "  height: 1rem;\n",
              "  width: 1rem;\n",
              "  text-decoration: none;\n",
              "  /* unfitted */\n",
              "  color: var(--sklearn-color-unfitted-level-1);\n",
              "  border: var(--sklearn-color-unfitted-level-1) 1pt solid;\n",
              "}\n",
              "\n",
              "#sk-container-id-4 a.estimator_doc_link.fitted {\n",
              "  /* fitted */\n",
              "  border: var(--sklearn-color-fitted-level-1) 1pt solid;\n",
              "  color: var(--sklearn-color-fitted-level-1);\n",
              "}\n",
              "\n",
              "/* On hover */\n",
              "#sk-container-id-4 a.estimator_doc_link:hover {\n",
              "  /* unfitted */\n",
              "  background-color: var(--sklearn-color-unfitted-level-3);\n",
              "  color: var(--sklearn-color-background);\n",
              "  text-decoration: none;\n",
              "}\n",
              "\n",
              "#sk-container-id-4 a.estimator_doc_link.fitted:hover {\n",
              "  /* fitted */\n",
              "  background-color: var(--sklearn-color-fitted-level-3);\n",
              "}\n",
              "</style><div id=\"sk-container-id-4\" class=\"sk-top-container\"><div class=\"sk-text-repr-fallback\"><pre>RandomizedSearchCV(cv=KFold(n_splits=5, random_state=42, shuffle=True),\n",
              "                   estimator=MLPRegressor(random_state=42), n_jobs=-1,\n",
              "                   param_distributions={&#x27;activation&#x27;: [&#x27;relu&#x27;, &#x27;tanh&#x27;],\n",
              "                                        &#x27;alpha&#x27;: array([1.00000000e-05, 3.16227766e-04, 1.00000000e-02]),\n",
              "                                        &#x27;hidden_layer_sizes&#x27;: [(32,), (47, 21)],\n",
              "                                        &#x27;learning_rate_init&#x27;: array([0.0001    , 0.00316228, 0.1       ]),\n",
              "                                        &#x27;max_iter&#x27;: [200, 400],\n",
              "                                        &#x27;solver&#x27;: [&#x27;adam&#x27;, &#x27;lbfgs&#x27;]},\n",
              "                   random_state=42, scoring=&#x27;neg_mean_squared_error&#x27;,\n",
              "                   verbose=1)</pre><b>In a Jupyter environment, please rerun this cell to show the HTML representation or trust the notebook. <br />On GitHub, the HTML representation is unable to render, please try loading this page with nbviewer.org.</b></div><div class=\"sk-container\" hidden><div class=\"sk-item sk-dashed-wrapped\"><div class=\"sk-label-container\"><div class=\"sk-label fitted sk-toggleable\"><input class=\"sk-toggleable__control sk-hidden--visually\" id=\"sk-estimator-id-10\" type=\"checkbox\" ><label for=\"sk-estimator-id-10\" class=\"sk-toggleable__label fitted sk-toggleable__label-arrow\"><div><div>RandomizedSearchCV</div></div><div><a class=\"sk-estimator-doc-link fitted\" rel=\"noreferrer\" target=\"_blank\" href=\"https://scikit-learn.org/1.6/modules/generated/sklearn.model_selection.RandomizedSearchCV.html\">?<span>Documentation for RandomizedSearchCV</span></a><span class=\"sk-estimator-doc-link fitted\">i<span>Fitted</span></span></div></label><div class=\"sk-toggleable__content fitted\"><pre>RandomizedSearchCV(cv=KFold(n_splits=5, random_state=42, shuffle=True),\n",
              "                   estimator=MLPRegressor(random_state=42), n_jobs=-1,\n",
              "                   param_distributions={&#x27;activation&#x27;: [&#x27;relu&#x27;, &#x27;tanh&#x27;],\n",
              "                                        &#x27;alpha&#x27;: array([1.00000000e-05, 3.16227766e-04, 1.00000000e-02]),\n",
              "                                        &#x27;hidden_layer_sizes&#x27;: [(32,), (47, 21)],\n",
              "                                        &#x27;learning_rate_init&#x27;: array([0.0001    , 0.00316228, 0.1       ]),\n",
              "                                        &#x27;max_iter&#x27;: [200, 400],\n",
              "                                        &#x27;solver&#x27;: [&#x27;adam&#x27;, &#x27;lbfgs&#x27;]},\n",
              "                   random_state=42, scoring=&#x27;neg_mean_squared_error&#x27;,\n",
              "                   verbose=1)</pre></div> </div></div><div class=\"sk-parallel\"><div class=\"sk-parallel-item\"><div class=\"sk-item\"><div class=\"sk-label-container\"><div class=\"sk-label fitted sk-toggleable\"><input class=\"sk-toggleable__control sk-hidden--visually\" id=\"sk-estimator-id-11\" type=\"checkbox\" ><label for=\"sk-estimator-id-11\" class=\"sk-toggleable__label fitted sk-toggleable__label-arrow\"><div><div>best_estimator_: MLPRegressor</div></div></label><div class=\"sk-toggleable__content fitted\"><pre>MLPRegressor(alpha=np.float64(1e-05), hidden_layer_sizes=(47, 21),\n",
              "             learning_rate_init=np.float64(0.0031622776601683794), max_iter=400,\n",
              "             random_state=42)</pre></div> </div></div><div class=\"sk-serial\"><div class=\"sk-item\"><div class=\"sk-estimator fitted sk-toggleable\"><input class=\"sk-toggleable__control sk-hidden--visually\" id=\"sk-estimator-id-12\" type=\"checkbox\" ><label for=\"sk-estimator-id-12\" class=\"sk-toggleable__label fitted sk-toggleable__label-arrow\"><div><div>MLPRegressor</div></div><div><a class=\"sk-estimator-doc-link fitted\" rel=\"noreferrer\" target=\"_blank\" href=\"https://scikit-learn.org/1.6/modules/generated/sklearn.neural_network.MLPRegressor.html\">?<span>Documentation for MLPRegressor</span></a></div></label><div class=\"sk-toggleable__content fitted\"><pre>MLPRegressor(alpha=np.float64(1e-05), hidden_layer_sizes=(47, 21),\n",
              "             learning_rate_init=np.float64(0.0031622776601683794), max_iter=400,\n",
              "             random_state=42)</pre></div> </div></div></div></div></div></div></div></div></div>"
            ],
            "text/plain": [
              "RandomizedSearchCV(cv=KFold(n_splits=5, random_state=42, shuffle=True),\n",
              "                   estimator=MLPRegressor(random_state=42), n_jobs=-1,\n",
              "                   param_distributions={'activation': ['relu', 'tanh'],\n",
              "                                        'alpha': array([1.00000000e-05, 3.16227766e-04, 1.00000000e-02]),\n",
              "                                        'hidden_layer_sizes': [(32,), (47, 21)],\n",
              "                                        'learning_rate_init': array([0.0001    , 0.00316228, 0.1       ]),\n",
              "                                        'max_iter': [200, 400],\n",
              "                                        'solver': ['adam', 'lbfgs']},\n",
              "                   random_state=42, scoring='neg_mean_squared_error',\n",
              "                   verbose=1)"
            ]
          },
          "execution_count": 175,
          "metadata": {},
          "output_type": "execute_result"
        }
      ],
      "source": [
        "random_search_mlp_reg = RandomizedSearchCV(estimator=MLPRegressor(random_state=42),\n",
        "                                           param_distributions=param_distributions_mlp_reg,\n",
        "                                           n_iter=10,\n",
        "                                           scoring='neg_mean_squared_error',\n",
        "                                           cv=cv,\n",
        "                                           n_jobs=-1,\n",
        "                                           verbose=1,\n",
        "                                           random_state=42)\n",
        "random_search_mlp_reg.fit(X_train_scaled, y_train_reg)"
      ]
    },
    {
      "cell_type": "code",
      "execution_count": 176,
      "metadata": {
        "id": "-9UEgSbcVhnP"
      },
      "outputs": [
        {
          "name": "stdout",
          "output_type": "stream",
          "text": [
            "RandomizedSearchCV Best MSE: 0.4648\n"
          ]
        }
      ],
      "source": [
        "y_pred_reg_random = random_search_mlp_reg.predict(X_test_scaled)\n",
        "\n",
        "mse_reg_random = mean_squared_error(y_test_reg, y_pred_reg_random)\n",
        "\n",
        "print(f\"RandomizedSearchCV Best MSE: {mse_reg_random:.4f}\")\n"
      ]
    },
    {
      "cell_type": "markdown",
      "metadata": {},
      "source": [
        "### LightGBM Hyperparameter Tuning"
      ]
    },
    {
      "cell_type": "code",
      "execution_count": 177,
      "metadata": {},
      "outputs": [
        {
          "name": "stdout",
          "output_type": "stream",
          "text": [
            "[LightGBM] [Info] Auto-choosing row-wise multi-threading, the overhead of testing was 0.020691 seconds.\n",
            "You can set `force_row_wise=true` to remove the overhead.\n",
            "And if memory is not enough, you can set `force_col_wise=true`.\n",
            "[LightGBM] [Info] Total Bins 338\n",
            "[LightGBM] [Info] Number of data points in the train set: 616968, number of used features: 13\n",
            "[LightGBM] [Info] Start training from score -0.023258\n",
            "[LightGBM] [Info] Auto-choosing row-wise multi-threading, the overhead of testing was 0.017116 seconds.\n",
            "You can set `force_row_wise=true` to remove the overhead.\n",
            "And if memory is not enough, you can set `force_col_wise=true`.\n",
            "[LightGBM] [Info] Total Bins 338\n",
            "[LightGBM] [Info] Number of data points in the train set: 616968, number of used features: 13\n",
            "[LightGBM] [Info] Start training from score 0.011559\n",
            "[LightGBM] [Info] Auto-choosing row-wise multi-threading, the overhead of testing was 0.016700 seconds.\n",
            "You can set `force_row_wise=true` to remove the overhead.\n",
            "And if memory is not enough, you can set `force_col_wise=true`.\n",
            "[LightGBM] [Info] Total Bins 338\n",
            "[LightGBM] [Info] Number of data points in the train set: 616968, number of used features: 13\n",
            "[LightGBM] [Info] Start training from score -0.053346\n",
            "[LightGBM] [Info] Auto-choosing row-wise multi-threading, the overhead of testing was 0.015347 seconds.\n",
            "You can set `force_row_wise=true` to remove the overhead.\n",
            "And if memory is not enough, you can set `force_col_wise=true`.\n",
            "[LightGBM] [Info] Total Bins 338\n",
            "[LightGBM] [Info] Number of data points in the train set: 616968, number of used features: 13\n",
            "[LightGBM] [Info] Start training from score -0.008314\n",
            "[LightGBM] [Info] Auto-choosing row-wise multi-threading, the overhead of testing was 0.016273 seconds.\n",
            "You can set `force_row_wise=true` to remove the overhead.\n",
            "And if memory is not enough, you can set `force_col_wise=true`.\n",
            "[LightGBM] [Info] Total Bins 338\n",
            "[LightGBM] [Info] Number of data points in the train set: 616968, number of used features: 13\n",
            "[LightGBM] [Info] Start training from score 0.014753\n",
            "[LightGBM] [Info] Auto-choosing row-wise multi-threading, the overhead of testing was 0.014857 seconds.\n",
            "You can set `force_row_wise=true` to remove the overhead.\n",
            "And if memory is not enough, you can set `force_col_wise=true`.\n",
            "[LightGBM] [Info] Total Bins 338\n",
            "[LightGBM] [Info] Number of data points in the train set: 616968, number of used features: 13\n",
            "[LightGBM] [Info] Start training from score 0.020184\n",
            "[LightGBM] [Info] Auto-choosing row-wise multi-threading, the overhead of testing was 0.015997 seconds.\n",
            "You can set `force_row_wise=true` to remove the overhead.\n",
            "And if memory is not enough, you can set `force_col_wise=true`.\n",
            "[LightGBM] [Info] Total Bins 338\n",
            "[LightGBM] [Info] Number of data points in the train set: 616968, number of used features: 13\n",
            "[LightGBM] [Info] Start training from score -0.014280\n",
            "[LightGBM] [Info] Auto-choosing row-wise multi-threading, the overhead of testing was 0.014695 seconds.\n",
            "You can set `force_row_wise=true` to remove the overhead.\n",
            "And if memory is not enough, you can set `force_col_wise=true`.\n",
            "[LightGBM] [Info] Total Bins 338\n",
            "[LightGBM] [Info] Number of data points in the train set: 616968, number of used features: 13\n",
            "[LightGBM] [Info] Start training from score -0.048088\n",
            "[LightGBM] [Info] Auto-choosing row-wise multi-threading, the overhead of testing was 0.015895 seconds.\n",
            "You can set `force_row_wise=true` to remove the overhead.\n",
            "And if memory is not enough, you can set `force_col_wise=true`.\n",
            "[LightGBM] [Info] Total Bins 338\n",
            "[LightGBM] [Info] Number of data points in the train set: 616968, number of used features: 13\n",
            "[LightGBM] [Info] Start training from score -0.029474\n",
            "[LightGBM] [Info] Auto-choosing row-wise multi-threading, the overhead of testing was 0.016508 seconds.\n",
            "You can set `force_row_wise=true` to remove the overhead.\n",
            "And if memory is not enough, you can set `force_col_wise=true`.\n",
            "[LightGBM] [Info] Total Bins 338\n",
            "[LightGBM] [Info] Number of data points in the train set: 616968, number of used features: 13\n",
            "[LightGBM] [Info] Start training from score -0.016979\n",
            "[LightGBM] [Info] Auto-choosing row-wise multi-threading, the overhead of testing was 0.015555 seconds.\n",
            "You can set `force_row_wise=true` to remove the overhead.\n",
            "And if memory is not enough, you can set `force_col_wise=true`.\n",
            "[LightGBM] [Info] Total Bins 338\n",
            "[LightGBM] [Info] Number of data points in the train set: 616968, number of used features: 13\n",
            "[LightGBM] [Info] Start training from score 0.030572\n"
          ]
        }
      ],
      "source": [
        "# --- LightGBM Regressor Tuning (Multi-Output) ---\n",
        "from lightgbm import LGBMRegressor\n",
        "from sklearn.multioutput import MultiOutputRegressor\n",
        "\n",
        "lgb_reg_param_dist = {\n",
        "    'estimator__num_leaves': [20, 31, 40],\n",
        "    'estimator__learning_rate': [0.05, 0.1],\n",
        "    'estimator__subsample': [0.7, 0.8],\n",
        "    'estimator__n_estimators': [50, 100]\n",
        "}\n",
        "\n",
        "lgb_reg_tuner = RandomizedSearchCV(\n",
        "    MultiOutputRegressor(LGBMRegressor(random_state=42)),\n",
        "    param_distributions=lgb_reg_param_dist,\n",
        "    n_iter=10,  \n",
        "    scoring='neg_mean_squared_error',\n",
        "    cv=cv,\n",
        "    n_jobs=-1,\n",
        "    random_state=42\n",
        ")\n",
        "lgb_reg_tuner.fit(X_train_scaled, y_train_reg)\n",
        "best_lgb_reg = lgb_reg_tuner.best_estimator_"
      ]
    },
    {
      "cell_type": "code",
      "execution_count": 178,
      "metadata": {},
      "outputs": [
        {
          "name": "stdout",
          "output_type": "stream",
          "text": [
            "[LightGBM] [Info] Auto-choosing row-wise multi-threading, the overhead of testing was 0.016872 seconds.\n",
            "You can set `force_row_wise=true` to remove the overhead.\n",
            "And if memory is not enough, you can set `force_col_wise=true`.\n",
            "[LightGBM] [Info] Total Bins 338\n",
            "[LightGBM] [Info] Number of data points in the train set: 616968, number of used features: 13\n",
            "[LightGBM] [Info] Start training from score -0.692473\n",
            "[LightGBM] [Info] Start training from score -1.839656\n",
            "[LightGBM] [Info] Start training from score -4.136128\n",
            "[LightGBM] [Info] Start training from score -1.124527\n"
          ]
        }
      ],
      "source": [
        "# --- LightGBM Classifier Tuning ---\n",
        "from lightgbm import LGBMClassifier\n",
        "\n",
        "lgb_clf_param_dist = {\n",
        "    'num_leaves': [20, 31, 40],\n",
        "    'learning_rate': [0.05, 0.1],\n",
        "    'subsample': [0.7, 0.8],\n",
        "    'n_estimators': [50, 100]\n",
        "}\n",
        "\n",
        "lgb_clf_tuner = RandomizedSearchCV(\n",
        "    LGBMClassifier(random_state=42),\n",
        "    param_distributions=lgb_clf_param_dist,\n",
        "    n_iter=10,\n",
        "    scoring='f1_weighted',\n",
        "    cv=cv,\n",
        "    n_jobs=-1,\n",
        "    random_state=42\n",
        ")\n",
        "lgb_clf_tuner.fit(X_train_scaled, y_train_clf)\n",
        "best_lgb_clf = lgb_clf_tuner.best_estimator_"
      ]
    },
    {
      "cell_type": "markdown",
      "metadata": {},
      "source": [
        "## Finding the best model"
      ]
    },
    {
      "cell_type": "code",
      "execution_count": 179,
      "metadata": {},
      "outputs": [
        {
          "name": "stderr",
          "output_type": "stream",
          "text": [
            "c:\\Users\\deepa\\OneDrive\\Programming\\Projects\\GitHub\\Self_Updating-_Weather_forecast_System\\.venv\\Lib\\site-packages\\sklearn\\utils\\validation.py:2739: UserWarning: X does not have valid feature names, but LGBMRegressor was fitted with feature names\n",
            "  warnings.warn(\n",
            "c:\\Users\\deepa\\OneDrive\\Programming\\Projects\\GitHub\\Self_Updating-_Weather_forecast_System\\.venv\\Lib\\site-packages\\sklearn\\utils\\validation.py:2739: UserWarning: X does not have valid feature names, but LGBMRegressor was fitted with feature names\n",
            "  warnings.warn(\n",
            "c:\\Users\\deepa\\OneDrive\\Programming\\Projects\\GitHub\\Self_Updating-_Weather_forecast_System\\.venv\\Lib\\site-packages\\sklearn\\utils\\validation.py:2739: UserWarning: X does not have valid feature names, but LGBMRegressor was fitted with feature names\n",
            "  warnings.warn(\n",
            "c:\\Users\\deepa\\OneDrive\\Programming\\Projects\\GitHub\\Self_Updating-_Weather_forecast_System\\.venv\\Lib\\site-packages\\sklearn\\utils\\validation.py:2739: UserWarning: X does not have valid feature names, but LGBMRegressor was fitted with feature names\n",
            "  warnings.warn(\n",
            "c:\\Users\\deepa\\OneDrive\\Programming\\Projects\\GitHub\\Self_Updating-_Weather_forecast_System\\.venv\\Lib\\site-packages\\sklearn\\utils\\validation.py:2739: UserWarning: X does not have valid feature names, but LGBMRegressor was fitted with feature names\n",
            "  warnings.warn(\n",
            "c:\\Users\\deepa\\OneDrive\\Programming\\Projects\\GitHub\\Self_Updating-_Weather_forecast_System\\.venv\\Lib\\site-packages\\sklearn\\utils\\validation.py:2739: UserWarning: X does not have valid feature names, but LGBMRegressor was fitted with feature names\n",
            "  warnings.warn(\n",
            "c:\\Users\\deepa\\OneDrive\\Programming\\Projects\\GitHub\\Self_Updating-_Weather_forecast_System\\.venv\\Lib\\site-packages\\sklearn\\utils\\validation.py:2739: UserWarning: X does not have valid feature names, but LGBMRegressor was fitted with feature names\n",
            "  warnings.warn(\n",
            "c:\\Users\\deepa\\OneDrive\\Programming\\Projects\\GitHub\\Self_Updating-_Weather_forecast_System\\.venv\\Lib\\site-packages\\sklearn\\utils\\validation.py:2739: UserWarning: X does not have valid feature names, but LGBMRegressor was fitted with feature names\n",
            "  warnings.warn(\n",
            "c:\\Users\\deepa\\OneDrive\\Programming\\Projects\\GitHub\\Self_Updating-_Weather_forecast_System\\.venv\\Lib\\site-packages\\sklearn\\utils\\validation.py:2739: UserWarning: X does not have valid feature names, but LGBMRegressor was fitted with feature names\n",
            "  warnings.warn(\n",
            "c:\\Users\\deepa\\OneDrive\\Programming\\Projects\\GitHub\\Self_Updating-_Weather_forecast_System\\.venv\\Lib\\site-packages\\sklearn\\utils\\validation.py:2739: UserWarning: X does not have valid feature names, but LGBMRegressor was fitted with feature names\n",
            "  warnings.warn(\n"
          ]
        },
        {
          "name": "stdout",
          "output_type": "stream",
          "text": [
            "\n",
            "--- Final Regression Model Comparison ---\n",
            "Tuned MLP Regressor MSE: 0.4648\n",
            "Tuned LightGBM Regressor MSE: 0.4619\n"
          ]
        },
        {
          "name": "stderr",
          "output_type": "stream",
          "text": [
            "c:\\Users\\deepa\\OneDrive\\Programming\\Projects\\GitHub\\Self_Updating-_Weather_forecast_System\\.venv\\Lib\\site-packages\\sklearn\\utils\\validation.py:2739: UserWarning: X does not have valid feature names, but LGBMRegressor was fitted with feature names\n",
            "  warnings.warn(\n"
          ]
        }
      ],
      "source": [
        "# --- Regression Comparison ---\n",
        "mlp_reg_best = random_search_mlp_reg.best_estimator_\n",
        "mlp_reg_preds = mlp_reg_best.predict(X_test_scaled)\n",
        "lgb_reg_preds = best_lgb_reg.predict(X_test_scaled)\n",
        "\n",
        "print(\"\\n--- Final Regression Model Comparison ---\")\n",
        "print(f\"Tuned MLP Regressor MSE: {mean_squared_error(y_test_reg, mlp_reg_preds):.4f}\")\n",
        "print(f\"Tuned LightGBM Regressor MSE: {mean_squared_error(y_test_reg, lgb_reg_preds):.4f}\")"
      ]
    },
    {
      "cell_type": "code",
      "execution_count": 180,
      "metadata": {},
      "outputs": [
        {
          "name": "stderr",
          "output_type": "stream",
          "text": [
            "c:\\Users\\deepa\\OneDrive\\Programming\\Projects\\GitHub\\Self_Updating-_Weather_forecast_System\\.venv\\Lib\\site-packages\\sklearn\\utils\\validation.py:2739: UserWarning: X does not have valid feature names, but LGBMClassifier was fitted with feature names\n",
            "  warnings.warn(\n"
          ]
        },
        {
          "name": "stdout",
          "output_type": "stream",
          "text": [
            "\n",
            "--- Final Classification Model Comparison ---\n",
            "Tuned MLP Classifier F1: 0.6132\n",
            "Tuned LightGBM Classifier F1: 0.6141\n"
          ]
        }
      ],
      "source": [
        "# --- Classification Comparison ---\n",
        "mlp_clf_best = random_search_mlp_clf.best_estimator_\n",
        "mlp_clf_preds = mlp_clf_best.predict(X_test_scaled)\n",
        "lgb_clf_preds = best_lgb_clf.predict(X_test_scaled)\n",
        "\n",
        "print(\"\\n--- Final Classification Model Comparison ---\")\n",
        "print(f\"Tuned MLP Classifier F1: {f1_score(y_test_clf, mlp_clf_preds, average='weighted'):.4f}\")\n",
        "print(f\"Tuned LightGBM Classifier F1: {f1_score(y_test_clf, lgb_clf_preds, average='weighted'):.4f}\")"
      ]
    },
    {
      "cell_type": "markdown",
      "metadata": {},
      "source": [
        "# Saving model"
      ]
    },
    {
      "cell_type": "markdown",
      "metadata": {},
      "source": [
        "We will save the best performing models."
      ]
    },
    {
      "cell_type": "code",
      "execution_count": 184,
      "metadata": {},
      "outputs": [
        {
          "name": "stdout",
          "output_type": "stream",
          "text": [
            "Saved LightGBM Regressor to:\n",
            "c:\\Users\\deepa\\OneDrive\\Programming\\Projects\\GitHub\\Self_Updating-_Weather_forecast_System\\model\\best_regression_model.pkl\n",
            "Saved LightGBM Classifier to:\n",
            "c:\\Users\\deepa\\OneDrive\\Programming\\Projects\\GitHub\\Self_Updating-_Weather_forecast_System\\model\\best_classification_model.pkl\n"
          ]
        }
      ],
      "source": [
        "import joblib\n",
        "import os\n",
        "\n",
        "# Get parent directory of current working directory\n",
        "project_root = os.path.dirname(os.getcwd())\n",
        "model_dir = os.path.join(project_root, 'model')\n",
        "os.makedirs(model_dir, exist_ok=True)\n",
        "\n",
        "# Save regression model\n",
        "reg_path = os.path.join(model_dir, 'best_regression_model.pkl')\n",
        "if mean_squared_error(y_test_reg, lgb_reg_preds) < mean_squared_error(y_test_reg, mlp_reg_preds):\n",
        "    joblib.dump(best_lgb_reg, reg_path)\n",
        "    print(f\"Saved LightGBM Regressor to:\\n{reg_path}\")\n",
        "else:\n",
        "    joblib.dump(mlp_reg_best, reg_path)\n",
        "    print(f\"Saved MLP Regressor to:\\n{reg_path}\")\n",
        "\n",
        "# Save classification model\n",
        "clf_path = os.path.join(model_dir, 'best_classification_model.pkl')\n",
        "if f1_score(y_test_clf, lgb_clf_preds, average='weighted') > f1_score(y_test_clf, mlp_clf_preds, average='weighted'):\n",
        "    joblib.dump(best_lgb_clf, clf_path)\n",
        "    print(f\"Saved LightGBM Classifier to:\\n{clf_path}\")\n",
        "else:\n",
        "    joblib.dump(mlp_clf_best, clf_path)\n",
        "    print(f\"Saved MLP Classifier to:\\n{clf_path}\")"
      ]
    }
  ],
  "metadata": {
    "colab": {
      "provenance": []
    },
    "kernelspec": {
      "display_name": ".venv",
      "language": "python",
      "name": "python3"
    },
    "language_info": {
      "codemirror_mode": {
        "name": "ipython",
        "version": 3
      },
      "file_extension": ".py",
      "mimetype": "text/x-python",
      "name": "python",
      "nbconvert_exporter": "python",
      "pygments_lexer": "ipython3",
      "version": "3.12.4"
    }
  },
  "nbformat": 4,
  "nbformat_minor": 0
}
